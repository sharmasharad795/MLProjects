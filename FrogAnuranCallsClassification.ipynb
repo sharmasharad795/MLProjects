{
 "cells": [
  {
   "cell_type": "code",
   "execution_count": 172,
   "metadata": {},
   "outputs": [],
   "source": [
    "import pandas as pd\n",
    "import numpy as np\n",
    "from sklearn.model_selection import train_test_split\n",
    "from sklearn.svm import SVC\n",
    "from sklearn.metrics import accuracy_score\n",
    "from sklearn.model_selection import GridSearchCV\n",
    "import warnings\n",
    "from sklearn.exceptions import DataConversionWarning\n",
    "warnings.filterwarnings(action='ignore', category=DataConversionWarning)\n",
    "warnings.filterwarnings(action='ignore', category=DeprecationWarning)\n",
    "#warnings.filterwarnings(action='ignore', category=ConvergenceWarning)\n",
    "import warnings\n",
    "warnings.filterwarnings(\"ignore\")\n",
    "from sklearn.metrics import hamming_loss\n",
    "from sklearn import preprocessing\n",
    "from sklearn.svm import LinearSVC\n",
    "from sklearn import metrics\n",
    "from sklearn.cluster import KMeans\n",
    "from operator import itemgetter\n",
    "from imblearn.over_sampling import SMOTE"
   ]
  },
  {
   "cell_type": "markdown",
   "metadata": {},
   "source": [
    "### Solution to 1(a) as below:"
   ]
  },
  {
   "cell_type": "markdown",
   "metadata": {},
   "source": [
    "We've downloaded the dataset below and used sklearn.model_selection.train_test_split to split choose 70% of the data randomly as training data. "
   ]
  },
  {
   "cell_type": "code",
   "execution_count": 173,
   "metadata": {},
   "outputs": [],
   "source": [
    "fcalls=pd.read_csv('/Users/sharadsharma/Downloads/Anuran/Frogs_MFCCs.csv')\n",
    "del fcalls['RecordID']"
   ]
  },
  {
   "cell_type": "code",
   "execution_count": 174,
   "metadata": {},
   "outputs": [
    {
     "data": {
      "text/plain": [
       "(7195, 25)"
      ]
     },
     "execution_count": 174,
     "metadata": {},
     "output_type": "execute_result"
    }
   ],
   "source": [
    "fcalls.shape"
   ]
  },
  {
   "cell_type": "code",
   "execution_count": 175,
   "metadata": {},
   "outputs": [
    {
     "data": {
      "text/html": [
       "<div>\n",
       "<style scoped>\n",
       "    .dataframe tbody tr th:only-of-type {\n",
       "        vertical-align: middle;\n",
       "    }\n",
       "\n",
       "    .dataframe tbody tr th {\n",
       "        vertical-align: top;\n",
       "    }\n",
       "\n",
       "    .dataframe thead th {\n",
       "        text-align: right;\n",
       "    }\n",
       "</style>\n",
       "<table border=\"1\" class=\"dataframe\">\n",
       "  <thead>\n",
       "    <tr style=\"text-align: right;\">\n",
       "      <th></th>\n",
       "      <th>MFCCs_ 1</th>\n",
       "      <th>MFCCs_ 2</th>\n",
       "      <th>MFCCs_ 3</th>\n",
       "      <th>MFCCs_ 4</th>\n",
       "      <th>MFCCs_ 5</th>\n",
       "      <th>MFCCs_ 6</th>\n",
       "      <th>MFCCs_ 7</th>\n",
       "      <th>MFCCs_ 8</th>\n",
       "      <th>MFCCs_ 9</th>\n",
       "      <th>MFCCs_10</th>\n",
       "      <th>...</th>\n",
       "      <th>MFCCs_16</th>\n",
       "      <th>MFCCs_17</th>\n",
       "      <th>MFCCs_18</th>\n",
       "      <th>MFCCs_19</th>\n",
       "      <th>MFCCs_20</th>\n",
       "      <th>MFCCs_21</th>\n",
       "      <th>MFCCs_22</th>\n",
       "      <th>Family</th>\n",
       "      <th>Genus</th>\n",
       "      <th>Species</th>\n",
       "    </tr>\n",
       "  </thead>\n",
       "  <tbody>\n",
       "    <tr>\n",
       "      <td>0</td>\n",
       "      <td>1.0</td>\n",
       "      <td>0.152936</td>\n",
       "      <td>-0.105586</td>\n",
       "      <td>0.200722</td>\n",
       "      <td>0.317201</td>\n",
       "      <td>0.260764</td>\n",
       "      <td>0.100945</td>\n",
       "      <td>-0.150063</td>\n",
       "      <td>-0.171128</td>\n",
       "      <td>0.124676</td>\n",
       "      <td>...</td>\n",
       "      <td>-0.024017</td>\n",
       "      <td>-0.108351</td>\n",
       "      <td>-0.077623</td>\n",
       "      <td>-0.009568</td>\n",
       "      <td>0.057684</td>\n",
       "      <td>0.118680</td>\n",
       "      <td>0.014038</td>\n",
       "      <td>Leptodactylidae</td>\n",
       "      <td>Adenomera</td>\n",
       "      <td>AdenomeraAndre</td>\n",
       "    </tr>\n",
       "    <tr>\n",
       "      <td>1</td>\n",
       "      <td>1.0</td>\n",
       "      <td>0.171534</td>\n",
       "      <td>-0.098975</td>\n",
       "      <td>0.268425</td>\n",
       "      <td>0.338672</td>\n",
       "      <td>0.268353</td>\n",
       "      <td>0.060835</td>\n",
       "      <td>-0.222475</td>\n",
       "      <td>-0.207693</td>\n",
       "      <td>0.170883</td>\n",
       "      <td>...</td>\n",
       "      <td>0.012022</td>\n",
       "      <td>-0.090974</td>\n",
       "      <td>-0.056510</td>\n",
       "      <td>-0.035303</td>\n",
       "      <td>0.020140</td>\n",
       "      <td>0.082263</td>\n",
       "      <td>0.029056</td>\n",
       "      <td>Leptodactylidae</td>\n",
       "      <td>Adenomera</td>\n",
       "      <td>AdenomeraAndre</td>\n",
       "    </tr>\n",
       "    <tr>\n",
       "      <td>2</td>\n",
       "      <td>1.0</td>\n",
       "      <td>0.152317</td>\n",
       "      <td>-0.082973</td>\n",
       "      <td>0.287128</td>\n",
       "      <td>0.276014</td>\n",
       "      <td>0.189867</td>\n",
       "      <td>0.008714</td>\n",
       "      <td>-0.242234</td>\n",
       "      <td>-0.219153</td>\n",
       "      <td>0.232538</td>\n",
       "      <td>...</td>\n",
       "      <td>0.083536</td>\n",
       "      <td>-0.050691</td>\n",
       "      <td>-0.023590</td>\n",
       "      <td>-0.066722</td>\n",
       "      <td>-0.025083</td>\n",
       "      <td>0.099108</td>\n",
       "      <td>0.077162</td>\n",
       "      <td>Leptodactylidae</td>\n",
       "      <td>Adenomera</td>\n",
       "      <td>AdenomeraAndre</td>\n",
       "    </tr>\n",
       "    <tr>\n",
       "      <td>3</td>\n",
       "      <td>1.0</td>\n",
       "      <td>0.224392</td>\n",
       "      <td>0.118985</td>\n",
       "      <td>0.329432</td>\n",
       "      <td>0.372088</td>\n",
       "      <td>0.361005</td>\n",
       "      <td>0.015501</td>\n",
       "      <td>-0.194347</td>\n",
       "      <td>-0.098181</td>\n",
       "      <td>0.270375</td>\n",
       "      <td>...</td>\n",
       "      <td>-0.050224</td>\n",
       "      <td>-0.136009</td>\n",
       "      <td>-0.177037</td>\n",
       "      <td>-0.130498</td>\n",
       "      <td>-0.054766</td>\n",
       "      <td>-0.018691</td>\n",
       "      <td>0.023954</td>\n",
       "      <td>Leptodactylidae</td>\n",
       "      <td>Adenomera</td>\n",
       "      <td>AdenomeraAndre</td>\n",
       "    </tr>\n",
       "    <tr>\n",
       "      <td>4</td>\n",
       "      <td>1.0</td>\n",
       "      <td>0.087817</td>\n",
       "      <td>-0.068345</td>\n",
       "      <td>0.306967</td>\n",
       "      <td>0.330923</td>\n",
       "      <td>0.249144</td>\n",
       "      <td>0.006884</td>\n",
       "      <td>-0.265423</td>\n",
       "      <td>-0.172700</td>\n",
       "      <td>0.266434</td>\n",
       "      <td>...</td>\n",
       "      <td>0.062837</td>\n",
       "      <td>-0.048885</td>\n",
       "      <td>-0.053074</td>\n",
       "      <td>-0.088550</td>\n",
       "      <td>-0.031346</td>\n",
       "      <td>0.108610</td>\n",
       "      <td>0.079244</td>\n",
       "      <td>Leptodactylidae</td>\n",
       "      <td>Adenomera</td>\n",
       "      <td>AdenomeraAndre</td>\n",
       "    </tr>\n",
       "  </tbody>\n",
       "</table>\n",
       "<p>5 rows × 25 columns</p>\n",
       "</div>"
      ],
      "text/plain": [
       "   MFCCs_ 1  MFCCs_ 2  MFCCs_ 3  MFCCs_ 4  MFCCs_ 5  MFCCs_ 6  MFCCs_ 7  \\\n",
       "0       1.0  0.152936 -0.105586  0.200722  0.317201  0.260764  0.100945   \n",
       "1       1.0  0.171534 -0.098975  0.268425  0.338672  0.268353  0.060835   \n",
       "2       1.0  0.152317 -0.082973  0.287128  0.276014  0.189867  0.008714   \n",
       "3       1.0  0.224392  0.118985  0.329432  0.372088  0.361005  0.015501   \n",
       "4       1.0  0.087817 -0.068345  0.306967  0.330923  0.249144  0.006884   \n",
       "\n",
       "   MFCCs_ 8  MFCCs_ 9  MFCCs_10  ...  MFCCs_16  MFCCs_17  MFCCs_18  MFCCs_19  \\\n",
       "0 -0.150063 -0.171128  0.124676  ... -0.024017 -0.108351 -0.077623 -0.009568   \n",
       "1 -0.222475 -0.207693  0.170883  ...  0.012022 -0.090974 -0.056510 -0.035303   \n",
       "2 -0.242234 -0.219153  0.232538  ...  0.083536 -0.050691 -0.023590 -0.066722   \n",
       "3 -0.194347 -0.098181  0.270375  ... -0.050224 -0.136009 -0.177037 -0.130498   \n",
       "4 -0.265423 -0.172700  0.266434  ...  0.062837 -0.048885 -0.053074 -0.088550   \n",
       "\n",
       "   MFCCs_20  MFCCs_21  MFCCs_22           Family      Genus         Species  \n",
       "0  0.057684  0.118680  0.014038  Leptodactylidae  Adenomera  AdenomeraAndre  \n",
       "1  0.020140  0.082263  0.029056  Leptodactylidae  Adenomera  AdenomeraAndre  \n",
       "2 -0.025083  0.099108  0.077162  Leptodactylidae  Adenomera  AdenomeraAndre  \n",
       "3 -0.054766 -0.018691  0.023954  Leptodactylidae  Adenomera  AdenomeraAndre  \n",
       "4 -0.031346  0.108610  0.079244  Leptodactylidae  Adenomera  AdenomeraAndre  \n",
       "\n",
       "[5 rows x 25 columns]"
      ]
     },
     "execution_count": 175,
     "metadata": {},
     "output_type": "execute_result"
    }
   ],
   "source": [
    "fcalls.head(5)"
   ]
  },
  {
   "cell_type": "code",
   "execution_count": 176,
   "metadata": {},
   "outputs": [],
   "source": [
    "Y_fcalls=fcalls.iloc[:,[-3,-2,-1]]\n",
    "X_fcalls=fcalls.iloc[:,:-3]\n",
    "X_tr, X_ts, Y_tr, Y_ts = train_test_split(X_fcalls, Y_fcalls, test_size = 0.3, random_state = 0)"
   ]
  },
  {
   "cell_type": "code",
   "execution_count": 177,
   "metadata": {},
   "outputs": [
    {
     "data": {
      "text/plain": [
       "(5036, 22)"
      ]
     },
     "execution_count": 177,
     "metadata": {},
     "output_type": "execute_result"
    }
   ],
   "source": [
    "X_tr.shape"
   ]
  },
  {
   "cell_type": "code",
   "execution_count": 178,
   "metadata": {},
   "outputs": [
    {
     "data": {
      "text/plain": [
       "(5036, 3)"
      ]
     },
     "execution_count": 178,
     "metadata": {},
     "output_type": "execute_result"
    }
   ],
   "source": [
    "Y_tr.shape"
   ]
  },
  {
   "cell_type": "code",
   "execution_count": 179,
   "metadata": {},
   "outputs": [
    {
     "data": {
      "text/plain": [
       "(2159, 22)"
      ]
     },
     "execution_count": 179,
     "metadata": {},
     "output_type": "execute_result"
    }
   ],
   "source": [
    "X_ts.shape"
   ]
  },
  {
   "cell_type": "code",
   "execution_count": 180,
   "metadata": {},
   "outputs": [
    {
     "data": {
      "text/plain": [
       "(2159, 3)"
      ]
     },
     "execution_count": 180,
     "metadata": {},
     "output_type": "execute_result"
    }
   ],
   "source": [
    "Y_ts.shape"
   ]
  },
  {
   "cell_type": "markdown",
   "metadata": {},
   "source": [
    "### Solution to 1(b)(i) as below:"
   ]
  },
  {
   "cell_type": "markdown",
   "metadata": {},
   "source": [
    "We're going to use exact match and hamming loss methods for evaluating the classifiers in our problem set.\n",
    "\n",
    "Exact Match : It is a very strict metric. It tells us what percentage of the samples had all their labels classified correctly. This can be unfair to classifiers which, for eg, predict 2 out of three 3 labels correctly. It ignores partially correct matches.\n",
    "\n",
    "Hamming Loss : It is not as strict as exact match and rewards for partial-correctness as well. It is fraction of lables incorrectly predicted to the total number of labels."
   ]
  },
  {
   "cell_type": "markdown",
   "metadata": {},
   "source": [
    "### Solution to 1(b)(ii) as below:"
   ]
  },
  {
   "cell_type": "markdown",
   "metadata": {},
   "source": [
    "We'll first try and find the upper and lower bounds for the weight of the SVM penalty and the width of\n",
    "the Gaussian Kernel. We'll do this for all the labels."
   ]
  },
  {
   "cell_type": "markdown",
   "metadata": {},
   "source": [
    "After that,for each label, we'll use Cross Validation on the chosen values on C and gamma to find our best pair of (C,gamma). We'll then train our data on these chosen parameters and find the hamming loss and exact match for each label.\n",
    "\n",
    "Towards the end, we compute the hamming score and the exact match score for the classifier as a whole as well."
   ]
  },
  {
   "cell_type": "code",
   "execution_count": 181,
   "metadata": {},
   "outputs": [],
   "source": [
    "Y_tr_family=Y_tr[['Family']]\n",
    "Y_tr_genus= Y_tr[['Genus']]\n",
    "Y_tr_species= Y_tr[['Species']]\n",
    "\n",
    "Y_ts_family=Y_ts[['Family']]\n",
    "Y_ts_genus= Y_ts[['Genus']]\n",
    "Y_ts_species= Y_ts[['Species']]\n"
   ]
  },
  {
   "cell_type": "markdown",
   "metadata": {},
   "source": [
    "#### We'll first do it for the label 'Family'"
   ]
  },
  {
   "cell_type": "code",
   "execution_count": 182,
   "metadata": {},
   "outputs": [
    {
     "name": "stdout",
     "output_type": "stream",
     "text": [
      "0.6280778395552026\n"
     ]
    }
   ],
   "source": [
    "clf_family = SVC(C=0.01,kernel='rbf',gamma=0.1,decision_function_shape='ovr')\n",
    "clf_family.fit(X_tr, Y_tr_family)\n",
    "tr_family_pred=clf_family.predict(X_tr)\n",
    "print(accuracy_score(Y_tr_family, tr_family_pred))"
   ]
  },
  {
   "cell_type": "markdown",
   "metadata": {},
   "source": [
    "We see that that for C=10^-3, we get an accuracy as low as 0.6 even for values as high as 100 for gamma. And, we also see that accuracy is greater than 0.7867355043685464 for gamma >= 0.2 (C=0.01). However, it falls below 0.78 for Gamma =0.1 when C=0.01.\n",
    "We choose our threshold as 78% accuracy for which we get the below ranges for the two parameters.\n",
    "C=[ 10^-2,10^-1,10^0,10^1,10^2,10^3]\n",
    "gamma=[0.2,0.3,0.4,.....2]"
   ]
  },
  {
   "cell_type": "markdown",
   "metadata": {},
   "source": [
    "We'll now perform cross validation accordingly."
   ]
  },
  {
   "cell_type": "code",
   "execution_count": 183,
   "metadata": {},
   "outputs": [
    {
     "name": "stdout",
     "output_type": "stream",
     "text": [
      "240.28467937999994\n"
     ]
    }
   ],
   "source": [
    "import timeit\n",
    "start_time = timeit.default_timer()\n",
    "svc_model_family = SVC(kernel='rbf',decision_function_shape='ovr')\n",
    "params={'C':[0.01,0.1,10**0,10**1,10**2,10**3], 'gamma':[0.2,0.3,0.4,0.5,0.6,0.7,0.8,0.9,1.0,1.1,1.2,1.3,1.4,1.5,1.6,1.7,1.8,1.9,2.0]}\n",
    "family_clf = GridSearchCV(svc_model_family, param_grid=params, cv=10)\n",
    "family_clf.fit(X_tr, Y_tr_family)\n",
    "elapsed = timeit.default_timer() - start_time\n",
    "print(elapsed)"
   ]
  },
  {
   "cell_type": "code",
   "execution_count": 184,
   "metadata": {},
   "outputs": [
    {
     "name": "stdout",
     "output_type": "stream",
     "text": [
      "We get the best CV score of: 0.9930500397140588  when the parameters are: {'C': 10, 'gamma': 1.9}\n"
     ]
    }
   ],
   "source": [
    "print(\"We get the best CV score of:\",family_clf.best_score_,\" when the parameters are:\",family_clf.best_params_)"
   ]
  },
  {
   "cell_type": "markdown",
   "metadata": {},
   "source": [
    "Now we'll use these parameters and train the model and getting our hamming loss and accuracy on test sets."
   ]
  },
  {
   "cell_type": "code",
   "execution_count": 185,
   "metadata": {},
   "outputs": [
    {
     "name": "stdout",
     "output_type": "stream",
     "text": [
      "The exact match metric/ accuracy score for 'family' label is : 0.9944418712366836\n",
      "The hamming loss for 'family' label is: 0.00555812876331635\n"
     ]
    }
   ],
   "source": [
    "clf_family_actual = SVC(C=10,kernel='rbf',gamma=1.9,decision_function_shape='ovr')\n",
    "clf_family_actual.fit(X_tr, Y_tr_family)\n",
    "ts_family_pred=clf_family_actual.predict(X_ts)\n",
    "print(\"The exact match metric/ accuracy score for 'family' label is :\", accuracy_score(Y_ts_family, ts_family_pred))\n",
    "print(\"The hamming loss for 'family' label is:\",hamming_loss(Y_ts_family, ts_family_pred))\n"
   ]
  },
  {
   "cell_type": "markdown",
   "metadata": {},
   "source": [
    "#### We'll now do it for the label 'Genus'"
   ]
  },
  {
   "cell_type": "code",
   "execution_count": 186,
   "metadata": {},
   "outputs": [
    {
     "name": "stdout",
     "output_type": "stream",
     "text": [
      "0.6503177124702144\n"
     ]
    }
   ],
   "source": [
    "clf_genus = SVC(C=0.01,kernel='rbf',gamma=0.2,decision_function_shape='ovr')\n",
    "clf_genus.fit(X_tr, Y_tr_genus)\n",
    "tr_genus_pred=clf_genus.predict(X_tr)\n",
    "print(accuracy_score(Y_tr_genus, tr_genus_pred))"
   ]
  },
  {
   "cell_type": "markdown",
   "metadata": {},
   "source": [
    "After trying out different combinations for gamma and C , we see that for C=0.001 gives a lower accuracy than 0.6, even for gamma values as large as 1000. So we chose lower bound of C to be 0.01 and upper bound as 10^3. Also,for C=0.01, we see that we get accuracy lower than 0.76 (choosing this as the threshold for this case) for gamma = 0.1 and 0.2. Hence, our ranges for C =[ 10^-2,10^-1,10^0,10^1,10^2,10^3] and gamma = [0.3,0.4,.....2]."
   ]
  },
  {
   "cell_type": "code",
   "execution_count": 187,
   "metadata": {},
   "outputs": [
    {
     "name": "stdout",
     "output_type": "stream",
     "text": [
      "243.30991744399944\n"
     ]
    }
   ],
   "source": [
    "import timeit\n",
    "start_time = timeit.default_timer()\n",
    "svc_model_genus = SVC(kernel='rbf',decision_function_shape='ovr')\n",
    "params={'C':[0.01,0.1,10**0,10**1,10**2,10**3], 'gamma':[0.3,0.4,0.5,0.6,0.7,0.8,0.9,1.0,1.1,1.2,1.3,1.4,1.5,1.6,1.7,1.8,1.9,2.0]}\n",
    "genus_clf = GridSearchCV(svc_model_genus, param_grid=params, cv=10)\n",
    "genus_clf.fit(X_tr, Y_tr_genus)\n",
    "elapsed = timeit.default_timer() - start_time\n",
    "print(elapsed)"
   ]
  },
  {
   "cell_type": "code",
   "execution_count": 188,
   "metadata": {},
   "outputs": [
    {
     "name": "stdout",
     "output_type": "stream",
     "text": [
      "We get the best CV score of: 0.9912629070691025  when the parameters are: {'C': 100, 'gamma': 0.8}\n"
     ]
    }
   ],
   "source": [
    "print(\"We get the best CV score of:\",genus_clf.best_score_,\" when the parameters are:\",genus_clf.best_params_)"
   ]
  },
  {
   "cell_type": "markdown",
   "metadata": {},
   "source": [
    "Now we'll use these parameters and train the model and getting our hamming loss and accuracy on test sets."
   ]
  },
  {
   "cell_type": "code",
   "execution_count": 189,
   "metadata": {},
   "outputs": [
    {
     "name": "stdout",
     "output_type": "stream",
     "text": [
      "The exact match metric/ accuracy score for 'genus' label is : 0.9893469198703103\n",
      "The hamming loss for 'genus' label is: 0.010653080129689671\n"
     ]
    }
   ],
   "source": [
    "clf_genus_actual = SVC(C=100,kernel='rbf',gamma=0.8,decision_function_shape='ovr')\n",
    "clf_genus_actual.fit(X_tr, Y_tr_genus)\n",
    "ts_genus_pred=clf_genus_actual.predict(X_ts)\n",
    "print(\"The exact match metric/ accuracy score for 'genus' label is :\", accuracy_score(Y_ts_genus, ts_genus_pred))\n",
    "print(\"The hamming loss for 'genus' label is:\",hamming_loss(Y_ts_genus, ts_genus_pred))"
   ]
  },
  {
   "cell_type": "markdown",
   "metadata": {},
   "source": [
    "#### We'll now do it for the label 'Species'"
   ]
  },
  {
   "cell_type": "code",
   "execution_count": 190,
   "metadata": {},
   "outputs": [
    {
     "name": "stdout",
     "output_type": "stream",
     "text": [
      "0.6938046068308181\n"
     ]
    }
   ],
   "source": [
    "clf_species = SVC(C=0.01,kernel='rbf',gamma=0.3,decision_function_shape='ovr')\n",
    "clf_species.fit(X_tr, Y_tr_species)\n",
    "tr_species_pred=clf_species.predict(X_tr)\n",
    "print(accuracy_score(Y_tr_species, tr_species_pred))"
   ]
  },
  {
   "cell_type": "markdown",
   "metadata": {},
   "source": [
    "After trying out different combinations for gamma and C , we see that for C=0.001 gives a lower accuracy than 0.5, even for gamma values as large as 1000. So we chose lower bound of C to be 0.01 and upper bound as 10^3. Also,for C=0.01, we see that we get accuracy lower than 0.76 (choosing this as the threshold for this case) for gamma = 0.1,0.2 and 0.3. Hence, our ranges for C =[ 10^-2,10^-1,10^0,10^1,10^2,10^3] and gamma = [0.4,.....2]."
   ]
  },
  {
   "cell_type": "code",
   "execution_count": 191,
   "metadata": {},
   "outputs": [
    {
     "name": "stdout",
     "output_type": "stream",
     "text": [
      "246.53114328899937\n"
     ]
    }
   ],
   "source": [
    "import timeit\n",
    "start_time = timeit.default_timer()\n",
    "svc_model_species = SVC(kernel='rbf',decision_function_shape='ovr')\n",
    "params={'C':[0.01,0.1,10**0,10**1,10**2,10**3], 'gamma':[0.4,0.5,0.6,0.7,0.8,0.9,1.0,1.1,1.2,1.3,1.4,1.5,1.6,1.7,1.8,1.9,2.0]}\n",
    "species_clf = GridSearchCV(svc_model_species, param_grid=params, cv=10)\n",
    "species_clf.fit(X_tr, Y_tr_species)\n",
    "elapsed = timeit.default_timer() - start_time\n",
    "print(elapsed)"
   ]
  },
  {
   "cell_type": "code",
   "execution_count": 192,
   "metadata": {},
   "outputs": [
    {
     "name": "stdout",
     "output_type": "stream",
     "text": [
      "We get the best CV score of: 0.9908657664813344  when the parameters are: {'C': 10, 'gamma': 1.7}\n"
     ]
    }
   ],
   "source": [
    "print(\"We get the best CV score of:\",species_clf.best_score_,\" when the parameters are:\",species_clf.best_params_)"
   ]
  },
  {
   "cell_type": "code",
   "execution_count": 193,
   "metadata": {},
   "outputs": [
    {
     "name": "stdout",
     "output_type": "stream",
     "text": [
      "The exact match metric/ accuracy score for 'species' label is : 0.9911996294580825\n",
      "The hamming loss for 'species' label is: 0.008800370541917554\n"
     ]
    }
   ],
   "source": [
    "clf_species_actual = SVC(C=10,kernel='rbf',gamma=1.7,decision_function_shape='ovr')\n",
    "clf_species_actual.fit(X_tr, Y_tr_species)\n",
    "ts_species_pred=clf_species_actual.predict(X_ts)\n",
    "print(\"The exact match metric/ accuracy score for 'species' label is :\", accuracy_score(Y_ts_species, ts_species_pred))\n",
    "print(\"The hamming loss for 'species' label is:\",hamming_loss(Y_ts_species, ts_species_pred))\n"
   ]
  },
  {
   "cell_type": "code",
   "execution_count": 318,
   "metadata": {},
   "outputs": [
    {
     "name": "stdout",
     "output_type": "stream",
     "text": [
      "The hamming loss for the classifier is: 0.9916628068550255\n",
      "The exact match score for the classifier is: 0.9865678554886521\n"
     ]
    }
   ],
   "source": [
    "l1=ts_species_pred.tolist()\n",
    "l2=ts_genus_pred.tolist()\n",
    "l3=ts_family_pred.tolist()\n",
    "Y_fcalls_pred=pd.DataFrame({\"Family\":l3,\"Genus\":l2,\"Species\":l1})\n",
    "s1=np.sum(np.not_equal(Y_ts,Y_fcalls_pred))/float(Y_ts.size)\n",
    "print(\"The hamming loss for the classifier is:\",1-sum(s1))\n",
    "\n",
    "counter=0\n",
    "for x in range(0,len(Y_ts)):\n",
    "    if (Y_ts.iloc[x].values == Y_fcalls_pred.iloc[x].values).all() == True:\n",
    "        counter=counter+1\n",
    "        \n",
    "print(\"The exact match score for the classifier is:\",counter/len(Y_ts))\n",
    "    \n",
    "\n"
   ]
  },
  {
   "cell_type": "markdown",
   "metadata": {},
   "source": [
    "### Solution for 1(b)(iii) as below:"
   ]
  },
  {
   "cell_type": "markdown",
   "metadata": {},
   "source": [
    "We'll first standardize the attributes"
   ]
  },
  {
   "cell_type": "code",
   "execution_count": 194,
   "metadata": {},
   "outputs": [],
   "source": [
    "stdz = preprocessing.StandardScaler()\n",
    "X_tr_std = stdz.fit_transform(X_tr)\n",
    "X_ts_std = stdz.fit_transform(X_ts)\n",
    "X_tr_stddf = pd.DataFrame(X_tr_std,columns=X_tr.columns)\n",
    "X_ts_stddf = pd.DataFrame(X_ts_std,columns=X_ts.columns)"
   ]
  },
  {
   "cell_type": "markdown",
   "metadata": {},
   "source": [
    "For this question, we'll directly use cross validation to find the weight of the L1 penalty.\n",
    "We'll then train our data on the chosen C and find the hamming loss and exact match for each label.\n",
    "\n",
    "Towards the end, we compute the hamming score and the exact match score for the classifier as a whole as well."
   ]
  },
  {
   "cell_type": "markdown",
   "metadata": {},
   "source": [
    "#### We'll now do it for the label 'Family'\n"
   ]
  },
  {
   "cell_type": "code",
   "execution_count": 221,
   "metadata": {},
   "outputs": [
    {
     "name": "stdout",
     "output_type": "stream",
     "text": [
      "71.55602290599927\n"
     ]
    }
   ],
   "source": [
    "import timeit\n",
    "start_time = timeit.default_timer()\n",
    "svc_model_familyl1 = LinearSVC(penalty='l1', multi_class='ovr',dual=False)\n",
    "params={'C':[0.001,0.01,0.1,10**0,10**1,10**2,10**3]}\n",
    "familyl1_clf = GridSearchCV(svc_model_familyl1, param_grid=params, cv=10)\n",
    "familyl1_clf.fit(X_tr_stddf, Y_tr_family)\n",
    "elapsed = timeit.default_timer() - start_time\n",
    "print(elapsed)"
   ]
  },
  {
   "cell_type": "code",
   "execution_count": 222,
   "metadata": {},
   "outputs": [
    {
     "name": "stdout",
     "output_type": "stream",
     "text": [
      "We get the best CV score of: 0.938046068308181  when the weight of the penalty is: {'C': 100}\n"
     ]
    }
   ],
   "source": [
    "print(\"We get the best CV score of:\",familyl1_clf.best_score_,\" when the weight of the penalty is:\",familyl1_clf.best_params_)"
   ]
  },
  {
   "cell_type": "markdown",
   "metadata": {},
   "source": [
    "We'll now train the model using the above value of C and check the hamming loss and exact match score on the test set."
   ]
  },
  {
   "cell_type": "code",
   "execution_count": 223,
   "metadata": {},
   "outputs": [
    {
     "name": "stdout",
     "output_type": "stream",
     "text": [
      "The exact match metric/ accuracy score for 'family' label is : 0.9328392774432608\n",
      "The hamming loss for 'family' label is: 0.06716072255673923\n"
     ]
    }
   ],
   "source": [
    "clf_familyl1_actual = LinearSVC(penalty='l1', C=100, multi_class='ovr',dual=False)\n",
    "clf_familyl1_actual.fit(X_tr_stddf, Y_tr_family)\n",
    "ts_familyl1_pred=clf_familyl1_actual.predict(X_ts_stddf)\n",
    "print(\"The exact match metric/ accuracy score for 'family' label is :\", accuracy_score(Y_ts_family, ts_familyl1_pred))\n",
    "print(\"The hamming loss for 'family' label is:\",hamming_loss(Y_ts_family, ts_familyl1_pred))\n",
    "\n"
   ]
  },
  {
   "cell_type": "markdown",
   "metadata": {},
   "source": [
    "#### We'll now do it for the label 'Genus'\n",
    "\n"
   ]
  },
  {
   "cell_type": "code",
   "execution_count": 198,
   "metadata": {},
   "outputs": [
    {
     "name": "stdout",
     "output_type": "stream",
     "text": [
      "99.44274292400041\n"
     ]
    }
   ],
   "source": [
    "import timeit\n",
    "start_time = timeit.default_timer()\n",
    "svc_model_genusl1 = LinearSVC(penalty='l1', multi_class='ovr',dual=False)\n",
    "params={'C':[0.001,0.01,0.1,10**0,10**1,10**2,10**3]}\n",
    "genusl1_clf = GridSearchCV(svc_model_genusl1, param_grid=params, cv=10)\n",
    "genusl1_clf.fit(X_tr_stddf, Y_tr_genus)\n",
    "elapsed = timeit.default_timer() - start_time\n",
    "print(elapsed)"
   ]
  },
  {
   "cell_type": "code",
   "execution_count": 199,
   "metadata": {},
   "outputs": [
    {
     "name": "stdout",
     "output_type": "stream",
     "text": [
      "We get the best CV score of: 0.9529388403494837  when the weight of the penalty is: {'C': 1}\n"
     ]
    }
   ],
   "source": [
    "print(\"We get the best CV score of:\",genusl1_clf.best_score_,\" when the weight of the penalty is:\",genusl1_clf.best_params_)\n"
   ]
  },
  {
   "cell_type": "markdown",
   "metadata": {},
   "source": [
    "We'll now train the model using the above value of C and check the hamming loss and exact match score on the test set."
   ]
  },
  {
   "cell_type": "code",
   "execution_count": 200,
   "metadata": {},
   "outputs": [
    {
     "name": "stdout",
     "output_type": "stream",
     "text": [
      "The exact match metric/ accuracy score for 'genus' label is : 0.9467345993515517\n",
      "The hamming loss for 'genus' label is: 0.053265400648448355\n"
     ]
    }
   ],
   "source": [
    "clf_genusl1_actual = LinearSVC(penalty='l1', C=1, multi_class='ovr',dual=False)\n",
    "clf_genusl1_actual.fit(X_tr_stddf, Y_tr_genus)\n",
    "ts_genusl1_pred=clf_genusl1_actual.predict(X_ts_stddf)\n",
    "print(\"The exact match metric/ accuracy score for 'genus' label is :\", accuracy_score(Y_ts_genus, ts_genusl1_pred))\n",
    "print(\"The hamming loss for 'genus' label is:\",hamming_loss(Y_ts_genus, ts_genusl1_pred))\n"
   ]
  },
  {
   "cell_type": "markdown",
   "metadata": {},
   "source": [
    "#### We'll now do it for the label 'Species'"
   ]
  },
  {
   "cell_type": "code",
   "execution_count": 201,
   "metadata": {},
   "outputs": [
    {
     "name": "stdout",
     "output_type": "stream",
     "text": [
      "104.05422022600033\n"
     ]
    }
   ],
   "source": [
    "import timeit\n",
    "start_time = timeit.default_timer()\n",
    "svc_model_speciesl1 = LinearSVC(penalty='l1', multi_class='ovr',dual=False)\n",
    "params={'C':[0.001,0.01,0.1,10**0,10**1,10**2,10**3]}\n",
    "speciesl1_clf = GridSearchCV(svc_model_speciesl1, param_grid=params, cv=10)\n",
    "speciesl1_clf.fit(X_tr_stddf, Y_tr_species)\n",
    "elapsed = timeit.default_timer() - start_time\n",
    "print(elapsed)"
   ]
  },
  {
   "cell_type": "code",
   "execution_count": 202,
   "metadata": {},
   "outputs": [
    {
     "name": "stdout",
     "output_type": "stream",
     "text": [
      "We get the best CV score of: 0.9584988085782367  when the weight of the penalty is: {'C': 10}\n"
     ]
    }
   ],
   "source": [
    "print(\"We get the best CV score of:\",speciesl1_clf.best_score_,\" when the weight of the penalty is:\",speciesl1_clf.best_params_)\n"
   ]
  },
  {
   "cell_type": "markdown",
   "metadata": {},
   "source": [
    "We'll now train the model using the above value of C and check the hamming loss and exact match score on the test set."
   ]
  },
  {
   "cell_type": "code",
   "execution_count": 220,
   "metadata": {},
   "outputs": [
    {
     "name": "stdout",
     "output_type": "stream",
     "text": [
      "The exact match metric/ accuracy score for 'species' label is : 0.9573876794812413\n",
      "The hamming loss for 'species' label is: 0.042612320518758684\n"
     ]
    }
   ],
   "source": [
    "clf_speciesl1_actual = LinearSVC(penalty='l1', C=10, multi_class='ovr',dual=False)\n",
    "clf_speciesl1_actual.fit(X_tr_stddf, Y_tr_species)\n",
    "ts_speciesl1_pred=clf_speciesl1_actual.predict(X_ts_stddf)\n",
    "print(\"The exact match metric/ accuracy score for 'species' label is :\", accuracy_score(Y_ts_species, ts_speciesl1_pred))\n",
    "print(\"The hamming loss for 'species' label is:\",hamming_loss(Y_ts_species, ts_speciesl1_pred))\n",
    "\n"
   ]
  },
  {
   "cell_type": "code",
   "execution_count": 319,
   "metadata": {},
   "outputs": [
    {
     "name": "stdout",
     "output_type": "stream",
     "text": [
      "The hamming loss for the classifier is: 0.9456538520920179\n",
      "The exact match score for the classifier is: 0.9119962945808244\n"
     ]
    }
   ],
   "source": [
    "l1=ts_speciesl1_pred.tolist()\n",
    "l2=ts_genusl1_pred.tolist()\n",
    "l3=ts_familyl1_pred.tolist()\n",
    "Y_fcalls_pred=pd.DataFrame({\"Family\":l3,\"Genus\":l2,\"Species\":l1})\n",
    "s1=np.sum(np.not_equal(Y_ts,Y_fcalls_pred))/float(Y_ts.size)\n",
    "print(\"The hamming loss for the classifier is:\",1-sum(s1))\n",
    "\n",
    "counter=0\n",
    "for x in range(0,len(Y_ts)):\n",
    "    if (Y_ts.iloc[x].values == Y_fcalls_pred.iloc[x].values).all() == True:\n",
    "        counter=counter+1\n",
    "        \n",
    "print(\"The exact match score for the classifier is:\",counter/len(Y_ts))\n",
    "    "
   ]
  },
  {
   "cell_type": "markdown",
   "metadata": {},
   "source": [
    "### Solution to 1(b)(iv) as below:"
   ]
  },
  {
   "cell_type": "markdown",
   "metadata": {},
   "source": [
    "We'll use SMOTE here to deal with class imbalances in different labels.\n",
    "For each label, we'll first perform SMOTE on the training set. After this we'll cross validate to find the weight of the penalty. We'll take the value of 'C' that gives the highest cross-validation score, and train the model using this value of C. Henceforth, we'll find the exact match metric /accuracy score and the hamming loss on the test set.\n",
    "\n",
    "Towards the end, we compute the hamming score and the exact match score for the classifier as a whole as well.\n",
    "\n"
   ]
  },
  {
   "cell_type": "markdown",
   "metadata": {},
   "source": [
    "#### We'll now do it for the label 'Family'"
   ]
  },
  {
   "cell_type": "code",
   "execution_count": 204,
   "metadata": {},
   "outputs": [],
   "source": [
    "sm = SMOTE(random_state=42)\n",
    "X_tr_stddf_sm, Y_tr_family_sm = sm.fit_sample(X_tr_stddf, Y_tr_family)\n",
    "X_tr_stddf_sm_df=pd.DataFrame(data=X_tr_stddf_sm,columns=X_tr_stddf.columns)\n",
    "Y_tr_family_sm_df=pd.DataFrame(data=Y_tr_family_sm,columns=Y_tr_family.columns)"
   ]
  },
  {
   "cell_type": "code",
   "execution_count": 205,
   "metadata": {},
   "outputs": [
    {
     "data": {
      "text/plain": [
       "Leptodactylidae    3093\n",
       "Bufonidae          3093\n",
       "Dendrobatidae      3093\n",
       "Hylidae            3093\n",
       "Name: Family, dtype: int64"
      ]
     },
     "execution_count": 205,
     "metadata": {},
     "output_type": "execute_result"
    }
   ],
   "source": [
    "Y_tr_family_sm_df['Family'].value_counts()"
   ]
  },
  {
   "cell_type": "code",
   "execution_count": 206,
   "metadata": {},
   "outputs": [
    {
     "name": "stdout",
     "output_type": "stream",
     "text": [
      "319.476592650999\n"
     ]
    }
   ],
   "source": [
    "import timeit\n",
    "start_time = timeit.default_timer()\n",
    "\n",
    "svc_model_familysm = LinearSVC(penalty='l1', multi_class='ovr',dual=False)\n",
    "params={'C':[0.001,0.01,0.1,10**0,10**1,10**2,10**3]}\n",
    "familysm_clf = GridSearchCV(svc_model_familysm, param_grid=params, cv=10)\n",
    "familysm_clf.fit(X_tr_stddf_sm_df, Y_tr_family_sm_df)\n",
    "\n",
    "elapsed = timeit.default_timer() - start_time\n",
    "print(elapsed)"
   ]
  },
  {
   "cell_type": "code",
   "execution_count": 207,
   "metadata": {},
   "outputs": [
    {
     "name": "stdout",
     "output_type": "stream",
     "text": [
      "We get the best CV score of: 0.9501293242806337  when the weight of the penalty is: {'C': 100}\n"
     ]
    }
   ],
   "source": [
    "print(\"We get the best CV score of:\",familysm_clf.best_score_,\" when the weight of the penalty is:\",familysm_clf.best_params_)\n"
   ]
  },
  {
   "cell_type": "code",
   "execution_count": 208,
   "metadata": {},
   "outputs": [
    {
     "name": "stdout",
     "output_type": "stream",
     "text": [
      "The exact match metric/ accuracy score for 'family' label is : 0.9147753589624826\n",
      "The hamming loss for 'family' label is: 0.08522464103751737\n"
     ]
    }
   ],
   "source": [
    "clf_familysm_actual = LinearSVC(penalty='l1', C=100, multi_class='ovr',dual=False)\n",
    "clf_familysm_actual.fit(X_tr_stddf_sm_df, Y_tr_family_sm_df)\n",
    "ts_familysm_pred=clf_familysm_actual.predict(X_ts_stddf)\n",
    "print(\"The exact match metric/ accuracy score for 'family' label is :\", accuracy_score(Y_ts_family, ts_familysm_pred))\n",
    "print(\"The hamming loss for 'family' label is:\",hamming_loss(Y_ts_family, ts_familysm_pred))\n"
   ]
  },
  {
   "cell_type": "markdown",
   "metadata": {},
   "source": [
    "#### We'll now do it for the label 'Genus'\n",
    "\n"
   ]
  },
  {
   "cell_type": "code",
   "execution_count": 209,
   "metadata": {},
   "outputs": [],
   "source": [
    "sm = SMOTE(random_state=42)\n",
    "X_tr_genus_sm, Y_tr_genus_sm = sm.fit_sample(X_tr_stddf, Y_tr_genus)\n",
    "X_tr_genus_sm_df=pd.DataFrame(data=X_tr_genus_sm,columns=X_tr_stddf.columns)\n",
    "Y_tr_genus_sm_df=pd.DataFrame(data=Y_tr_genus_sm,columns=Y_tr_genus.columns)"
   ]
  },
  {
   "cell_type": "code",
   "execution_count": 210,
   "metadata": {},
   "outputs": [
    {
     "data": {
      "text/plain": [
       "Adenomera        2910\n",
       "Ameerega         2910\n",
       "Dendropsophus    2910\n",
       "Rhinella         2910\n",
       "Hypsiboas        2910\n",
       "Scinax           2910\n",
       "Osteocephalus    2910\n",
       "Leptodactylus    2910\n",
       "Name: Genus, dtype: int64"
      ]
     },
     "execution_count": 210,
     "metadata": {},
     "output_type": "execute_result"
    }
   ],
   "source": [
    "Y_tr_genus_sm_df['Genus'].value_counts()"
   ]
  },
  {
   "cell_type": "code",
   "execution_count": 211,
   "metadata": {},
   "outputs": [
    {
     "name": "stdout",
     "output_type": "stream",
     "text": [
      "877.7827479900006\n"
     ]
    }
   ],
   "source": [
    "import timeit\n",
    "start_time = timeit.default_timer()\n",
    "\n",
    "svc_model_genussm = LinearSVC(penalty='l1', multi_class='ovr',dual=False)\n",
    "params={'C':[0.001,0.01,0.1,10**0,10**1,10**2,10**3]}\n",
    "genussm_clf = GridSearchCV(svc_model_genussm, param_grid=params, cv=10)\n",
    "genussm_clf.fit(X_tr_genus_sm_df, Y_tr_genus_sm_df)\n",
    "\n",
    "elapsed = timeit.default_timer() - start_time\n",
    "print(elapsed)"
   ]
  },
  {
   "cell_type": "code",
   "execution_count": 212,
   "metadata": {},
   "outputs": [
    {
     "name": "stdout",
     "output_type": "stream",
     "text": [
      "We get the best CV score of: 0.9641752577319588  when the weight of the penalty is: {'C': 10}\n"
     ]
    }
   ],
   "source": [
    "print(\"We get the best CV score of:\",genussm_clf.best_score_,\" when the weight of the penalty is:\",genussm_clf.best_params_)\n"
   ]
  },
  {
   "cell_type": "code",
   "execution_count": 316,
   "metadata": {},
   "outputs": [
    {
     "name": "stdout",
     "output_type": "stream",
     "text": [
      "The exact match metric/ accuracy score for 'genus' label is : 0.9027327466419639\n",
      "The hamming loss for 'genus' label is: 0.09726725335803613\n"
     ]
    }
   ],
   "source": [
    "clf_genussm_actual = LinearSVC(penalty='l1', C=10, multi_class='ovr',dual=False)\n",
    "clf_genussm_actual.fit(X_tr_genus_sm_df, Y_tr_genus_sm_df)\n",
    "ts_genussm_pred=clf_genussm_actual.predict(X_ts_stddf)\n",
    "print(\"The exact match metric/ accuracy score for 'genus' label is :\", accuracy_score(Y_ts_genus, ts_genussm_pred))\n",
    "print(\"The hamming loss for 'genus' label is:\",hamming_loss(Y_ts_genus, ts_genussm_pred))\n",
    "\n"
   ]
  },
  {
   "cell_type": "markdown",
   "metadata": {},
   "source": [
    "#### We'll now do it for the label 'Species'\n",
    "\n",
    "\n"
   ]
  },
  {
   "cell_type": "code",
   "execution_count": 214,
   "metadata": {},
   "outputs": [],
   "source": [
    "sm = SMOTE(random_state=42)\n",
    "X_tr_species_sm, Y_tr_species_sm = sm.fit_sample(X_tr_stddf, Y_tr_species)\n",
    "X_tr_species_sm_df=pd.DataFrame(data=X_tr_species_sm,columns=X_tr_stddf.columns)\n",
    "Y_tr_species_sm_df=pd.DataFrame(data=Y_tr_species_sm,columns=Y_tr_species.columns)"
   ]
  },
  {
   "cell_type": "code",
   "execution_count": 215,
   "metadata": {},
   "outputs": [
    {
     "data": {
      "text/plain": [
       "HypsiboasCordobae         2449\n",
       "AdenomeraAndre            2449\n",
       "AdenomeraHylaedactylus    2449\n",
       "ScinaxRuber               2449\n",
       "OsteocephalusOophagus     2449\n",
       "Rhinellagranulosa         2449\n",
       "HypsiboasCinerascens      2449\n",
       "Ameeregatrivittata        2449\n",
       "HylaMinuta                2449\n",
       "LeptodactylusFuscus       2449\n",
       "Name: Species, dtype: int64"
      ]
     },
     "execution_count": 215,
     "metadata": {},
     "output_type": "execute_result"
    }
   ],
   "source": [
    "Y_tr_species_sm_df['Species'].value_counts()"
   ]
  },
  {
   "cell_type": "code",
   "execution_count": 216,
   "metadata": {},
   "outputs": [
    {
     "name": "stdout",
     "output_type": "stream",
     "text": [
      "1091.3786271360004\n"
     ]
    }
   ],
   "source": [
    "import timeit\n",
    "start_time = timeit.default_timer()\n",
    "\n",
    "svc_model_speciessm = LinearSVC(penalty='l1', multi_class='ovr',dual=False)\n",
    "params={'C':[0.001,0.01,0.1,10**0,10**1,10**2,10**3]}\n",
    "speciessm_clf = GridSearchCV(svc_model_speciessm, param_grid=params, cv=10)\n",
    "speciessm_clf.fit(X_tr_species_sm_df, Y_tr_species_sm_df)\n",
    "\n",
    "elapsed = timeit.default_timer() - start_time\n",
    "print(elapsed)"
   ]
  },
  {
   "cell_type": "code",
   "execution_count": 218,
   "metadata": {},
   "outputs": [
    {
     "name": "stdout",
     "output_type": "stream",
     "text": [
      "We get the best CV score of: 0.9653736218864842  when the weight of the penalty is: {'C': 100}\n"
     ]
    }
   ],
   "source": [
    "print(\"We get the best CV score of:\",speciessm_clf.best_score_,\" when the weight of the penalty is:\",speciessm_clf.best_params_)\n",
    "\n"
   ]
  },
  {
   "cell_type": "code",
   "execution_count": 219,
   "metadata": {},
   "outputs": [
    {
     "name": "stdout",
     "output_type": "stream",
     "text": [
      "The exact match metric/ accuracy score for 'species' label is : 0.952292728114868\n",
      "The hamming loss for 'species' label is: 0.047707271885132005\n"
     ]
    }
   ],
   "source": [
    "clf_speciessm_actual = LinearSVC(penalty='l1', C=100, multi_class='ovr',dual=False)\n",
    "clf_speciessm_actual.fit(X_tr_species_sm_df, Y_tr_species_sm_df)\n",
    "ts_speciessm_pred=clf_speciessm_actual.predict(X_ts_stddf)\n",
    "print(\"The exact match metric/ accuracy score for 'species' label is :\", accuracy_score(Y_ts_species, ts_speciessm_pred))\n",
    "print(\"The hamming loss for 'species' label is:\",hamming_loss(Y_ts_species, ts_speciessm_pred))\n",
    "\n",
    "\n"
   ]
  },
  {
   "cell_type": "code",
   "execution_count": 321,
   "metadata": {},
   "outputs": [
    {
     "name": "stdout",
     "output_type": "stream",
     "text": [
      "The hamming loss for the classifier is: 0.9232669445731049\n",
      "The exact match score for the classifier is: 0.8545622973598889\n"
     ]
    }
   ],
   "source": [
    "l1=ts_speciessm_pred.tolist()\n",
    "l2=ts_genussm_pred.tolist()\n",
    "l3=ts_familysm_pred.tolist()\n",
    "Y_fcalls_pred=pd.DataFrame({\"Family\":l3,\"Genus\":l2,\"Species\":l1})\n",
    "s1=np.sum(np.not_equal(Y_ts,Y_fcalls_pred))/float(Y_ts.size)\n",
    "print(\"The hamming loss for the classifier is:\",1-sum(s1))\n",
    "\n",
    "counter=0\n",
    "for x in range(0,len(Y_ts)):\n",
    "    if (Y_ts.iloc[x].values == Y_fcalls_pred.iloc[x].values).all() == True:\n",
    "        counter=counter+1\n",
    "        \n",
    "print(\"The exact match score for the classifier is:\",counter/len(Y_ts))\n",
    "    "
   ]
  },
  {
   "cell_type": "markdown",
   "metadata": {},
   "source": [
    "For each of the classifiers in b(ii),b(iii),b(iv), we see that the hamming score > exact match score. This is because of the partial correctness it acknowledges, as mentioned in b(i).\n",
    "\n",
    "We also see that both hamming score and exact match metric reduce when we use L1 penalized SVM.\n",
    "Both of them reduce even further when we SMOTE on the dataset before performing L1 penalized SVM. This is because the data is no longer heavily imbalanced and does not always predict the majority class(es), leading to very high scores in both of our scoring parameters."
   ]
  },
  {
   "cell_type": "markdown",
   "metadata": {},
   "source": [
    "### Solution to 2(a) as below:"
   ]
  },
  {
   "cell_type": "markdown",
   "metadata": {},
   "source": [
    "We're using CH Index to choose our optimal K for each of the 50 iterations."
   ]
  },
  {
   "cell_type": "code",
   "execution_count": 107,
   "metadata": {},
   "outputs": [
    {
     "name": "stdout",
     "output_type": "stream",
     "text": [
      "The optimal K and its CH_index for iteration No 1 is (2, 3680.7413494630937)\n",
      "The optimal K and its CH_index for iteration No 2 is (2, 3680.7413494630937)\n",
      "The optimal K and its CH_index for iteration No 3 is (2, 3680.7413494630937)\n",
      "The optimal K and its CH_index for iteration No 4 is (2, 3680.7413494630937)\n",
      "The optimal K and its CH_index for iteration No 5 is (2, 3680.7413494630937)\n",
      "The optimal K and its CH_index for iteration No 6 is (2, 3680.7413494630937)\n",
      "The optimal K and its CH_index for iteration No 7 is (2, 3680.7413494630937)\n",
      "The optimal K and its CH_index for iteration No 8 is (2, 3680.7413494630937)\n",
      "The optimal K and its CH_index for iteration No 9 is (2, 3680.7413494630937)\n",
      "The optimal K and its CH_index for iteration No 10 is (2, 3680.7413494630937)\n",
      "The optimal K and its CH_index for iteration No 11 is (2, 3680.7413494630937)\n",
      "The optimal K and its CH_index for iteration No 12 is (2, 3680.7413494630937)\n",
      "The optimal K and its CH_index for iteration No 13 is (2, 3680.7413494630937)\n",
      "The optimal K and its CH_index for iteration No 14 is (2, 3680.7413494630937)\n",
      "The optimal K and its CH_index for iteration No 15 is (2, 3680.7413494630937)\n",
      "The optimal K and its CH_index for iteration No 16 is (2, 3680.7413494630937)\n",
      "The optimal K and its CH_index for iteration No 17 is (2, 3680.7413494630937)\n",
      "The optimal K and its CH_index for iteration No 18 is (2, 3680.7413494630937)\n",
      "The optimal K and its CH_index for iteration No 19 is (2, 3680.7413494630937)\n",
      "The optimal K and its CH_index for iteration No 20 is (2, 3680.7413494630937)\n",
      "The optimal K and its CH_index for iteration No 21 is (2, 3680.7413494630937)\n",
      "The optimal K and its CH_index for iteration No 22 is (2, 3680.7413494630937)\n",
      "The optimal K and its CH_index for iteration No 23 is (2, 3680.7413494630937)\n",
      "The optimal K and its CH_index for iteration No 24 is (2, 3680.7413494630937)\n",
      "The optimal K and its CH_index for iteration No 25 is (2, 3680.7413494630937)\n",
      "The optimal K and its CH_index for iteration No 26 is (2, 3680.7413494630937)\n",
      "The optimal K and its CH_index for iteration No 27 is (2, 3680.7413494630937)\n",
      "The optimal K and its CH_index for iteration No 28 is (2, 3680.7413494630937)\n",
      "The optimal K and its CH_index for iteration No 29 is (2, 3680.7413494630937)\n",
      "The optimal K and its CH_index for iteration No 30 is (2, 3680.7413494630937)\n",
      "The optimal K and its CH_index for iteration No 31 is (2, 3680.7413494630937)\n",
      "The optimal K and its CH_index for iteration No 32 is (2, 3680.7413494630937)\n",
      "The optimal K and its CH_index for iteration No 33 is (2, 3680.7413494630937)\n",
      "The optimal K and its CH_index for iteration No 34 is (2, 3680.7413494630937)\n",
      "The optimal K and its CH_index for iteration No 35 is (2, 3680.7413494630937)\n",
      "The optimal K and its CH_index for iteration No 36 is (2, 3680.7413494630937)\n",
      "The optimal K and its CH_index for iteration No 37 is (2, 3680.7413494630937)\n",
      "The optimal K and its CH_index for iteration No 38 is (2, 3680.7413494630937)\n",
      "The optimal K and its CH_index for iteration No 39 is (2, 3680.7413494630937)\n",
      "The optimal K and its CH_index for iteration No 40 is (2, 3680.7413494630937)\n",
      "The optimal K and its CH_index for iteration No 41 is (2, 3680.7413494630937)\n",
      "The optimal K and its CH_index for iteration No 42 is (2, 3680.7413494630937)\n",
      "The optimal K and its CH_index for iteration No 43 is (2, 3680.7413494630937)\n",
      "The optimal K and its CH_index for iteration No 44 is (2, 3680.7413494630937)\n",
      "The optimal K and its CH_index for iteration No 45 is (2, 3680.7413494630937)\n",
      "The optimal K and its CH_index for iteration No 46 is (2, 3680.7413494630937)\n",
      "The optimal K and its CH_index for iteration No 47 is (2, 3680.7413494630937)\n",
      "The optimal K and its CH_index for iteration No 48 is (2, 3680.7413494630937)\n",
      "The optimal K and its CH_index for iteration No 49 is (2, 3680.7413494630937)\n",
      "The optimal K and its CH_index for iteration No 50 is (2, 3680.7413494630937)\n",
      "1782.8399041249977\n"
     ]
    }
   ],
   "source": [
    "import timeit\n",
    "start_time = timeit.default_timer()\n",
    "\n",
    "best_kch = []\n",
    "for x in range(1,51):\n",
    "    ch_index=[]\n",
    "    for k in range(2, 51):\n",
    "        kmeans_cl = KMeans(init = 'random',n_clusters=k).fit(X_fcalls)\n",
    "        labels = kmeans_cl.labels_\n",
    "        ch_index.append((k,metrics.calinski_harabaz_score(X_fcalls, labels)))\n",
    "    sorted_ch_index = sorted(ch_index,key=itemgetter(1),reverse = True)\n",
    "    print('The optimal K and its CH_index for iteration No',x ,'is',sorted_ch_index[0])\n",
    "    best_kch.append(sorted_ch_index[0])\n",
    "    \n",
    "elapsed = timeit.default_timer() - start_time\n",
    "print(elapsed)  "
   ]
  },
  {
   "cell_type": "markdown",
   "metadata": {},
   "source": [
    "### Solution to 2(b) as below:"
   ]
  },
  {
   "cell_type": "markdown",
   "metadata": {},
   "source": [
    "We find the majority label triplet for each cluster in each iteration."
   ]
  },
  {
   "cell_type": "code",
   "execution_count": 77,
   "metadata": {},
   "outputs": [
    {
     "name": "stdout",
     "output_type": "stream",
     "text": [
      "The optimal K for iteration No 1 is 2 and its CH Index is: 3680.7413494630937\n",
      "The clusters are: [0 1]\n",
      "The majority labels for cluster 0 are: ['Leptodactylidae', 'Adenomera', 'AdenomeraHylaedactylus']\n",
      "The majority labels for cluster 1 are: ['Hylidae', 'Hypsiboas', 'HypsiboasCordobae']\n",
      "\n",
      "\n",
      "The optimal K for iteration No 2 is 2 and its CH Index is: 3680.7413494630937\n",
      "The clusters are: [0 1]\n",
      "The majority labels for cluster 0 are: ['Leptodactylidae', 'Adenomera', 'AdenomeraHylaedactylus']\n",
      "The majority labels for cluster 1 are: ['Hylidae', 'Hypsiboas', 'HypsiboasCordobae']\n",
      "\n",
      "\n",
      "The optimal K for iteration No 3 is 2 and its CH Index is: 3680.7413494630937\n",
      "The clusters are: [0 1]\n",
      "The majority labels for cluster 0 are: ['Leptodactylidae', 'Adenomera', 'AdenomeraHylaedactylus']\n",
      "The majority labels for cluster 1 are: ['Hylidae', 'Hypsiboas', 'HypsiboasCordobae']\n",
      "\n",
      "\n",
      "The optimal K for iteration No 4 is 2 and its CH Index is: 3680.7413494630937\n",
      "The clusters are: [0 1]\n",
      "The majority labels for cluster 0 are: ['Hylidae', 'Hypsiboas', 'HypsiboasCordobae']\n",
      "The majority labels for cluster 1 are: ['Leptodactylidae', 'Adenomera', 'AdenomeraHylaedactylus']\n",
      "\n",
      "\n",
      "The optimal K for iteration No 5 is 2 and its CH Index is: 3680.7413494630937\n",
      "The clusters are: [0 1]\n",
      "The majority labels for cluster 0 are: ['Hylidae', 'Hypsiboas', 'HypsiboasCordobae']\n",
      "The majority labels for cluster 1 are: ['Leptodactylidae', 'Adenomera', 'AdenomeraHylaedactylus']\n",
      "\n",
      "\n",
      "The optimal K for iteration No 6 is 2 and its CH Index is: 3680.7413494630937\n",
      "The clusters are: [0 1]\n",
      "The majority labels for cluster 0 are: ['Leptodactylidae', 'Adenomera', 'AdenomeraHylaedactylus']\n",
      "The majority labels for cluster 1 are: ['Hylidae', 'Hypsiboas', 'HypsiboasCordobae']\n",
      "\n",
      "\n",
      "The optimal K for iteration No 7 is 2 and its CH Index is: 3680.7413494630937\n",
      "The clusters are: [0 1]\n",
      "The majority labels for cluster 0 are: ['Hylidae', 'Hypsiboas', 'HypsiboasCordobae']\n",
      "The majority labels for cluster 1 are: ['Leptodactylidae', 'Adenomera', 'AdenomeraHylaedactylus']\n",
      "\n",
      "\n",
      "The optimal K for iteration No 8 is 2 and its CH Index is: 3680.7413494630937\n",
      "The clusters are: [0 1]\n",
      "The majority labels for cluster 0 are: ['Hylidae', 'Hypsiboas', 'HypsiboasCordobae']\n",
      "The majority labels for cluster 1 are: ['Leptodactylidae', 'Adenomera', 'AdenomeraHylaedactylus']\n",
      "\n",
      "\n",
      "The optimal K for iteration No 9 is 2 and its CH Index is: 3680.7413494630937\n",
      "The clusters are: [0 1]\n",
      "The majority labels for cluster 0 are: ['Leptodactylidae', 'Adenomera', 'AdenomeraHylaedactylus']\n",
      "The majority labels for cluster 1 are: ['Hylidae', 'Hypsiboas', 'HypsiboasCordobae']\n",
      "\n",
      "\n",
      "The optimal K for iteration No 10 is 2 and its CH Index is: 3680.7413494630937\n",
      "The clusters are: [0 1]\n",
      "The majority labels for cluster 0 are: ['Hylidae', 'Hypsiboas', 'HypsiboasCordobae']\n",
      "The majority labels for cluster 1 are: ['Leptodactylidae', 'Adenomera', 'AdenomeraHylaedactylus']\n",
      "\n",
      "\n",
      "The optimal K for iteration No 11 is 2 and its CH Index is: 3680.7413494630937\n",
      "The clusters are: [0 1]\n",
      "The majority labels for cluster 0 are: ['Leptodactylidae', 'Adenomera', 'AdenomeraHylaedactylus']\n",
      "The majority labels for cluster 1 are: ['Hylidae', 'Hypsiboas', 'HypsiboasCordobae']\n",
      "\n",
      "\n",
      "The optimal K for iteration No 12 is 2 and its CH Index is: 3680.7413494630937\n",
      "The clusters are: [0 1]\n",
      "The majority labels for cluster 0 are: ['Leptodactylidae', 'Adenomera', 'AdenomeraHylaedactylus']\n",
      "The majority labels for cluster 1 are: ['Hylidae', 'Hypsiboas', 'HypsiboasCordobae']\n",
      "\n",
      "\n",
      "The optimal K for iteration No 13 is 2 and its CH Index is: 3680.7413494630937\n",
      "The clusters are: [0 1]\n",
      "The majority labels for cluster 0 are: ['Hylidae', 'Hypsiboas', 'HypsiboasCordobae']\n",
      "The majority labels for cluster 1 are: ['Leptodactylidae', 'Adenomera', 'AdenomeraHylaedactylus']\n",
      "\n",
      "\n",
      "The optimal K for iteration No 14 is 2 and its CH Index is: 3680.7413494630937\n",
      "The clusters are: [0 1]\n",
      "The majority labels for cluster 0 are: ['Hylidae', 'Hypsiboas', 'HypsiboasCordobae']\n",
      "The majority labels for cluster 1 are: ['Leptodactylidae', 'Adenomera', 'AdenomeraHylaedactylus']\n",
      "\n",
      "\n",
      "The optimal K for iteration No 15 is 2 and its CH Index is: 3680.7413494630937\n",
      "The clusters are: [0 1]\n",
      "The majority labels for cluster 0 are: ['Leptodactylidae', 'Adenomera', 'AdenomeraHylaedactylus']\n",
      "The majority labels for cluster 1 are: ['Hylidae', 'Hypsiboas', 'HypsiboasCordobae']\n",
      "\n",
      "\n",
      "The optimal K for iteration No 16 is 2 and its CH Index is: 3680.7413494630937\n",
      "The clusters are: [0 1]\n",
      "The majority labels for cluster 0 are: ['Leptodactylidae', 'Adenomera', 'AdenomeraHylaedactylus']\n",
      "The majority labels for cluster 1 are: ['Hylidae', 'Hypsiboas', 'HypsiboasCordobae']\n",
      "\n",
      "\n",
      "The optimal K for iteration No 17 is 2 and its CH Index is: 3680.7413494630937\n",
      "The clusters are: [0 1]\n",
      "The majority labels for cluster 0 are: ['Leptodactylidae', 'Adenomera', 'AdenomeraHylaedactylus']\n",
      "The majority labels for cluster 1 are: ['Hylidae', 'Hypsiboas', 'HypsiboasCordobae']\n",
      "\n",
      "\n",
      "The optimal K for iteration No 18 is 2 and its CH Index is: 3680.7413494630937\n",
      "The clusters are: [0 1]\n",
      "The majority labels for cluster 0 are: ['Hylidae', 'Hypsiboas', 'HypsiboasCordobae']\n",
      "The majority labels for cluster 1 are: ['Leptodactylidae', 'Adenomera', 'AdenomeraHylaedactylus']\n",
      "\n",
      "\n",
      "The optimal K for iteration No 19 is 2 and its CH Index is: 3680.7413494630937\n",
      "The clusters are: [0 1]\n",
      "The majority labels for cluster 0 are: ['Hylidae', 'Hypsiboas', 'HypsiboasCordobae']\n",
      "The majority labels for cluster 1 are: ['Leptodactylidae', 'Adenomera', 'AdenomeraHylaedactylus']\n",
      "\n",
      "\n",
      "The optimal K for iteration No 20 is 2 and its CH Index is: 3680.7413494630937\n",
      "The clusters are: [0 1]\n",
      "The majority labels for cluster 0 are: ['Hylidae', 'Hypsiboas', 'HypsiboasCordobae']\n",
      "The majority labels for cluster 1 are: ['Leptodactylidae', 'Adenomera', 'AdenomeraHylaedactylus']\n",
      "\n",
      "\n",
      "The optimal K for iteration No 21 is 2 and its CH Index is: 3680.7413494630937\n",
      "The clusters are: [0 1]\n",
      "The majority labels for cluster 0 are: ['Leptodactylidae', 'Adenomera', 'AdenomeraHylaedactylus']\n",
      "The majority labels for cluster 1 are: ['Hylidae', 'Hypsiboas', 'HypsiboasCordobae']\n",
      "\n",
      "\n",
      "The optimal K for iteration No 22 is 2 and its CH Index is: 3680.7413494630937\n",
      "The clusters are: [0 1]\n",
      "The majority labels for cluster 0 are: ['Leptodactylidae', 'Adenomera', 'AdenomeraHylaedactylus']\n",
      "The majority labels for cluster 1 are: ['Hylidae', 'Hypsiboas', 'HypsiboasCordobae']\n",
      "\n",
      "\n",
      "The optimal K for iteration No 23 is 2 and its CH Index is: 3680.7413494630937\n",
      "The clusters are: [0 1]\n",
      "The majority labels for cluster 0 are: ['Leptodactylidae', 'Adenomera', 'AdenomeraHylaedactylus']\n",
      "The majority labels for cluster 1 are: ['Hylidae', 'Hypsiboas', 'HypsiboasCordobae']\n",
      "\n",
      "\n",
      "The optimal K for iteration No 24 is 2 and its CH Index is: 3680.7413494630937\n",
      "The clusters are: [0 1]\n",
      "The majority labels for cluster 0 are: ['Leptodactylidae', 'Adenomera', 'AdenomeraHylaedactylus']\n",
      "The majority labels for cluster 1 are: ['Hylidae', 'Hypsiboas', 'HypsiboasCordobae']\n",
      "\n",
      "\n",
      "The optimal K for iteration No 25 is 2 and its CH Index is: 3680.7413494630937\n",
      "The clusters are: [0 1]\n",
      "The majority labels for cluster 0 are: ['Leptodactylidae', 'Adenomera', 'AdenomeraHylaedactylus']\n",
      "The majority labels for cluster 1 are: ['Hylidae', 'Hypsiboas', 'HypsiboasCordobae']\n",
      "\n",
      "\n",
      "The optimal K for iteration No 26 is 2 and its CH Index is: 3680.7413494630937\n",
      "The clusters are: [0 1]\n",
      "The majority labels for cluster 0 are: ['Hylidae', 'Hypsiboas', 'HypsiboasCordobae']\n",
      "The majority labels for cluster 1 are: ['Leptodactylidae', 'Adenomera', 'AdenomeraHylaedactylus']\n",
      "\n",
      "\n",
      "The optimal K for iteration No 27 is 2 and its CH Index is: 3680.7413494630937\n",
      "The clusters are: [0 1]\n",
      "The majority labels for cluster 0 are: ['Hylidae', 'Hypsiboas', 'HypsiboasCordobae']\n",
      "The majority labels for cluster 1 are: ['Leptodactylidae', 'Adenomera', 'AdenomeraHylaedactylus']\n",
      "\n",
      "\n",
      "The optimal K for iteration No 28 is 2 and its CH Index is: 3680.7413494630937\n",
      "The clusters are: [0 1]\n",
      "The majority labels for cluster 0 are: ['Hylidae', 'Hypsiboas', 'HypsiboasCordobae']\n",
      "The majority labels for cluster 1 are: ['Leptodactylidae', 'Adenomera', 'AdenomeraHylaedactylus']\n",
      "\n",
      "\n",
      "The optimal K for iteration No 29 is 2 and its CH Index is: 3680.7413494630937\n",
      "The clusters are: [0 1]\n",
      "The majority labels for cluster 0 are: ['Hylidae', 'Hypsiboas', 'HypsiboasCordobae']\n",
      "The majority labels for cluster 1 are: ['Leptodactylidae', 'Adenomera', 'AdenomeraHylaedactylus']\n",
      "\n",
      "\n"
     ]
    },
    {
     "name": "stdout",
     "output_type": "stream",
     "text": [
      "The optimal K for iteration No 30 is 2 and its CH Index is: 3680.7413494630937\n",
      "The clusters are: [0 1]\n",
      "The majority labels for cluster 0 are: ['Hylidae', 'Hypsiboas', 'HypsiboasCordobae']\n",
      "The majority labels for cluster 1 are: ['Leptodactylidae', 'Adenomera', 'AdenomeraHylaedactylus']\n",
      "\n",
      "\n",
      "The optimal K for iteration No 31 is 2 and its CH Index is: 3680.7413494630937\n",
      "The clusters are: [0 1]\n",
      "The majority labels for cluster 0 are: ['Hylidae', 'Hypsiboas', 'HypsiboasCordobae']\n",
      "The majority labels for cluster 1 are: ['Leptodactylidae', 'Adenomera', 'AdenomeraHylaedactylus']\n",
      "\n",
      "\n",
      "The optimal K for iteration No 32 is 2 and its CH Index is: 3680.7413494630937\n",
      "The clusters are: [0 1]\n",
      "The majority labels for cluster 0 are: ['Hylidae', 'Hypsiboas', 'HypsiboasCordobae']\n",
      "The majority labels for cluster 1 are: ['Leptodactylidae', 'Adenomera', 'AdenomeraHylaedactylus']\n",
      "\n",
      "\n",
      "The optimal K for iteration No 33 is 2 and its CH Index is: 3680.7413494630937\n",
      "The clusters are: [0 1]\n",
      "The majority labels for cluster 0 are: ['Hylidae', 'Hypsiboas', 'HypsiboasCordobae']\n",
      "The majority labels for cluster 1 are: ['Leptodactylidae', 'Adenomera', 'AdenomeraHylaedactylus']\n",
      "\n",
      "\n",
      "The optimal K for iteration No 34 is 2 and its CH Index is: 3680.7413494630937\n",
      "The clusters are: [0 1]\n",
      "The majority labels for cluster 0 are: ['Hylidae', 'Hypsiboas', 'HypsiboasCordobae']\n",
      "The majority labels for cluster 1 are: ['Leptodactylidae', 'Adenomera', 'AdenomeraHylaedactylus']\n",
      "\n",
      "\n",
      "The optimal K for iteration No 35 is 2 and its CH Index is: 3680.7413494630937\n",
      "The clusters are: [0 1]\n",
      "The majority labels for cluster 0 are: ['Leptodactylidae', 'Adenomera', 'AdenomeraHylaedactylus']\n",
      "The majority labels for cluster 1 are: ['Hylidae', 'Hypsiboas', 'HypsiboasCordobae']\n",
      "\n",
      "\n",
      "The optimal K for iteration No 36 is 2 and its CH Index is: 3680.7413494630937\n",
      "The clusters are: [0 1]\n",
      "The majority labels for cluster 0 are: ['Leptodactylidae', 'Adenomera', 'AdenomeraHylaedactylus']\n",
      "The majority labels for cluster 1 are: ['Hylidae', 'Hypsiboas', 'HypsiboasCordobae']\n",
      "\n",
      "\n",
      "The optimal K for iteration No 37 is 2 and its CH Index is: 3680.7413494630937\n",
      "The clusters are: [0 1]\n",
      "The majority labels for cluster 0 are: ['Leptodactylidae', 'Adenomera', 'AdenomeraHylaedactylus']\n",
      "The majority labels for cluster 1 are: ['Hylidae', 'Hypsiboas', 'HypsiboasCordobae']\n",
      "\n",
      "\n",
      "The optimal K for iteration No 38 is 2 and its CH Index is: 3680.7413494630937\n",
      "The clusters are: [0 1]\n",
      "The majority labels for cluster 0 are: ['Hylidae', 'Hypsiboas', 'HypsiboasCordobae']\n",
      "The majority labels for cluster 1 are: ['Leptodactylidae', 'Adenomera', 'AdenomeraHylaedactylus']\n",
      "\n",
      "\n",
      "The optimal K for iteration No 39 is 2 and its CH Index is: 3680.7413494630937\n",
      "The clusters are: [0 1]\n",
      "The majority labels for cluster 0 are: ['Leptodactylidae', 'Adenomera', 'AdenomeraHylaedactylus']\n",
      "The majority labels for cluster 1 are: ['Hylidae', 'Hypsiboas', 'HypsiboasCordobae']\n",
      "\n",
      "\n",
      "The optimal K for iteration No 40 is 2 and its CH Index is: 3680.7413494630937\n",
      "The clusters are: [0 1]\n",
      "The majority labels for cluster 0 are: ['Hylidae', 'Hypsiboas', 'HypsiboasCordobae']\n",
      "The majority labels for cluster 1 are: ['Leptodactylidae', 'Adenomera', 'AdenomeraHylaedactylus']\n",
      "\n",
      "\n",
      "The optimal K for iteration No 41 is 2 and its CH Index is: 3680.7413494630937\n",
      "The clusters are: [0 1]\n",
      "The majority labels for cluster 0 are: ['Leptodactylidae', 'Adenomera', 'AdenomeraHylaedactylus']\n",
      "The majority labels for cluster 1 are: ['Hylidae', 'Hypsiboas', 'HypsiboasCordobae']\n",
      "\n",
      "\n",
      "The optimal K for iteration No 42 is 2 and its CH Index is: 3680.7413494630937\n",
      "The clusters are: [0 1]\n",
      "The majority labels for cluster 0 are: ['Hylidae', 'Hypsiboas', 'HypsiboasCordobae']\n",
      "The majority labels for cluster 1 are: ['Leptodactylidae', 'Adenomera', 'AdenomeraHylaedactylus']\n",
      "\n",
      "\n",
      "The optimal K for iteration No 43 is 2 and its CH Index is: 3680.7413494630937\n",
      "The clusters are: [0 1]\n",
      "The majority labels for cluster 0 are: ['Hylidae', 'Hypsiboas', 'HypsiboasCordobae']\n",
      "The majority labels for cluster 1 are: ['Leptodactylidae', 'Adenomera', 'AdenomeraHylaedactylus']\n",
      "\n",
      "\n",
      "The optimal K for iteration No 44 is 2 and its CH Index is: 3680.7413494630937\n",
      "The clusters are: [0 1]\n",
      "The majority labels for cluster 0 are: ['Hylidae', 'Hypsiboas', 'HypsiboasCordobae']\n",
      "The majority labels for cluster 1 are: ['Leptodactylidae', 'Adenomera', 'AdenomeraHylaedactylus']\n",
      "\n",
      "\n",
      "The optimal K for iteration No 45 is 2 and its CH Index is: 3680.7413494630937\n",
      "The clusters are: [0 1]\n",
      "The majority labels for cluster 0 are: ['Hylidae', 'Hypsiboas', 'HypsiboasCordobae']\n",
      "The majority labels for cluster 1 are: ['Leptodactylidae', 'Adenomera', 'AdenomeraHylaedactylus']\n",
      "\n",
      "\n",
      "The optimal K for iteration No 46 is 2 and its CH Index is: 3680.7413494630937\n",
      "The clusters are: [0 1]\n",
      "The majority labels for cluster 0 are: ['Leptodactylidae', 'Adenomera', 'AdenomeraHylaedactylus']\n",
      "The majority labels for cluster 1 are: ['Hylidae', 'Hypsiboas', 'HypsiboasCordobae']\n",
      "\n",
      "\n",
      "The optimal K for iteration No 47 is 2 and its CH Index is: 3680.7413494630937\n",
      "The clusters are: [0 1]\n",
      "The majority labels for cluster 0 are: ['Hylidae', 'Hypsiboas', 'HypsiboasCordobae']\n",
      "The majority labels for cluster 1 are: ['Leptodactylidae', 'Adenomera', 'AdenomeraHylaedactylus']\n",
      "\n",
      "\n",
      "The optimal K for iteration No 48 is 2 and its CH Index is: 3680.7413494630937\n",
      "The clusters are: [0 1]\n",
      "The majority labels for cluster 0 are: ['Hylidae', 'Hypsiboas', 'HypsiboasCordobae']\n",
      "The majority labels for cluster 1 are: ['Leptodactylidae', 'Adenomera', 'AdenomeraHylaedactylus']\n",
      "\n",
      "\n",
      "The optimal K for iteration No 49 is 2 and its CH Index is: 3680.7413494630937\n",
      "The clusters are: [0 1]\n",
      "The majority labels for cluster 0 are: ['Leptodactylidae', 'Adenomera', 'AdenomeraHylaedactylus']\n",
      "The majority labels for cluster 1 are: ['Hylidae', 'Hypsiboas', 'HypsiboasCordobae']\n",
      "\n",
      "\n",
      "The optimal K for iteration No 50 is 2 and its CH Index is: 3680.7413494630937\n",
      "The clusters are: [0 1]\n",
      "The majority labels for cluster 0 are: ['Leptodactylidae', 'Adenomera', 'AdenomeraHylaedactylus']\n",
      "The majority labels for cluster 1 are: ['Hylidae', 'Hypsiboas', 'HypsiboasCordobae']\n",
      "\n",
      "\n",
      "1738.513796052\n"
     ]
    }
   ],
   "source": [
    "import timeit\n",
    "start_time = timeit.default_timer()\n",
    "\n",
    "best_kch = []\n",
    "for x in range(1,51):\n",
    "    ch_index=[]\n",
    "    for k in range(2, 51):\n",
    "        kmeans_cl = KMeans(init = 'random',n_clusters=k).fit(X_fcalls)\n",
    "        labels = kmeans_cl.labels_\n",
    "        ch_index.append((k,labels,metrics.calinski_harabaz_score(X_fcalls, labels)))\n",
    "        \n",
    "    sorted_ch_index = sorted(ch_index,key=itemgetter(2),reverse = True)\n",
    "    print('The optimal K for iteration No',x ,'is',sorted_ch_index[0][0],\"and its CH Index is:\",sorted_ch_index[0][2])\n",
    "    print(\"The clusters are:\",np.unique(sorted_ch_index[0][1]))\n",
    "    array_lab=sorted_ch_index[0][1]\n",
    "    l=array_lab.tolist()\n",
    "    cl0=[]\n",
    "    cl1=[]\n",
    "\n",
    "    for i in range(0,len(l)):\n",
    "        if l[i]==0:\n",
    "            cl0.append(i)\n",
    "        elif l[i]==1:\n",
    "            cl1.append(i)\n",
    "    clus0=[]\n",
    "    clus1=[]\n",
    "\n",
    "    fam0=list(Y_fcalls['Family'].iloc[cl0])\n",
    "    genus0=list(Y_fcalls['Genus'].iloc[cl0])\n",
    "    species0=list(Y_fcalls['Species'].iloc[cl0])\n",
    "    \n",
    "    fam1=list(Y_fcalls['Family'].iloc[cl1])\n",
    "    genus1=list(Y_fcalls['Genus'].iloc[cl1])\n",
    "    species1=list(Y_fcalls['Species'].iloc[cl1])\n",
    "   \n",
    "    clus0.append(max(set(fam0), key = fam0.count))\n",
    "    clus0.append(max(set(genus0), key = genus0.count))\n",
    "    clus0.append(max(set(species0), key = species0.count))\n",
    "    print(\"The majority labels for cluster 0 are:\",clus0)\n",
    "    \n",
    "    clus1.append(max(set(fam1), key = fam1.count))\n",
    "    clus1.append(max(set(genus1), key = genus1.count))\n",
    "    clus1.append(max(set(species1), key = species1.count))\n",
    "    print(\"The majority labels for cluster 1 are:\",clus1)\n",
    "    print('\\n')\n",
    "\n",
    "elapsed = timeit.default_timer() - start_time\n",
    "print(elapsed) \n",
    "   "
   ]
  },
  {
   "cell_type": "markdown",
   "metadata": {},
   "source": [
    "### Solution to 2(c) as below:"
   ]
  },
  {
   "cell_type": "markdown",
   "metadata": {},
   "source": [
    "For each iteration, we provide the hamming distances of each of the labels, and also the hamming loss and the hamming score.\n",
    "\n",
    "Towards the end, we find the average and standard deviations of these 50 values of hamming losses and hamming scores."
   ]
  },
  {
   "cell_type": "code",
   "execution_count": 307,
   "metadata": {},
   "outputs": [
    {
     "name": "stdout",
     "output_type": "stream",
     "text": [
      "The hamming distances for family,genus and species in iteration 1 is [0.23349548 0.29826268 0.36386379] respectively\n",
      "The hamming loss/avg hamming distance for iteration 1 is: 0.2985406532314107\n",
      "The hamming score for iteration 1 is: 0.7014593467685892\n",
      "\n",
      "\n",
      "The hamming distances for family,genus and species in iteration 2 is [0.23349548 0.29826268 0.36386379] respectively\n",
      "The hamming loss/avg hamming distance for iteration 2 is: 0.2985406532314107\n",
      "The hamming score for iteration 2 is: 0.7014593467685892\n",
      "\n",
      "\n",
      "The hamming distances for family,genus and species in iteration 3 is [0.23349548 0.29826268 0.36386379] respectively\n",
      "The hamming loss/avg hamming distance for iteration 3 is: 0.2985406532314107\n",
      "The hamming score for iteration 3 is: 0.7014593467685892\n",
      "\n",
      "\n",
      "The hamming distances for family,genus and species in iteration 4 is [0.23349548 0.29826268 0.36386379] respectively\n",
      "The hamming loss/avg hamming distance for iteration 4 is: 0.2985406532314107\n",
      "The hamming score for iteration 4 is: 0.7014593467685892\n",
      "\n",
      "\n",
      "The hamming distances for family,genus and species in iteration 5 is [0.23349548 0.29826268 0.36386379] respectively\n",
      "The hamming loss/avg hamming distance for iteration 5 is: 0.2985406532314107\n",
      "The hamming score for iteration 5 is: 0.7014593467685892\n",
      "\n",
      "\n",
      "The hamming distances for family,genus and species in iteration 6 is [0.23349548 0.29826268 0.36386379] respectively\n",
      "The hamming loss/avg hamming distance for iteration 6 is: 0.2985406532314107\n",
      "The hamming score for iteration 6 is: 0.7014593467685892\n",
      "\n",
      "\n",
      "The hamming distances for family,genus and species in iteration 7 is [0.23349548 0.29826268 0.36386379] respectively\n",
      "The hamming loss/avg hamming distance for iteration 7 is: 0.2985406532314107\n",
      "The hamming score for iteration 7 is: 0.7014593467685892\n",
      "\n",
      "\n",
      "The hamming distances for family,genus and species in iteration 8 is [0.23349548 0.29826268 0.36386379] respectively\n",
      "The hamming loss/avg hamming distance for iteration 8 is: 0.2985406532314107\n",
      "The hamming score for iteration 8 is: 0.7014593467685892\n",
      "\n",
      "\n",
      "The hamming distances for family,genus and species in iteration 9 is [0.23349548 0.29826268 0.36386379] respectively\n",
      "The hamming loss/avg hamming distance for iteration 9 is: 0.2985406532314107\n",
      "The hamming score for iteration 9 is: 0.7014593467685892\n",
      "\n",
      "\n",
      "The hamming distances for family,genus and species in iteration 10 is [0.23349548 0.29826268 0.36386379] respectively\n",
      "The hamming loss/avg hamming distance for iteration 10 is: 0.2985406532314107\n",
      "The hamming score for iteration 10 is: 0.7014593467685892\n",
      "\n",
      "\n",
      "The hamming distances for family,genus and species in iteration 11 is [0.23349548 0.29826268 0.36386379] respectively\n",
      "The hamming loss/avg hamming distance for iteration 11 is: 0.2985406532314107\n",
      "The hamming score for iteration 11 is: 0.7014593467685892\n",
      "\n",
      "\n",
      "The hamming distances for family,genus and species in iteration 12 is [0.23349548 0.29826268 0.36386379] respectively\n",
      "The hamming loss/avg hamming distance for iteration 12 is: 0.2985406532314107\n",
      "The hamming score for iteration 12 is: 0.7014593467685892\n",
      "\n",
      "\n",
      "The hamming distances for family,genus and species in iteration 13 is [0.23349548 0.29826268 0.36386379] respectively\n",
      "The hamming loss/avg hamming distance for iteration 13 is: 0.2985406532314107\n",
      "The hamming score for iteration 13 is: 0.7014593467685892\n",
      "\n",
      "\n",
      "The hamming distances for family,genus and species in iteration 14 is [0.23349548 0.29826268 0.36386379] respectively\n",
      "The hamming loss/avg hamming distance for iteration 14 is: 0.2985406532314107\n",
      "The hamming score for iteration 14 is: 0.7014593467685892\n",
      "\n",
      "\n",
      "The hamming distances for family,genus and species in iteration 15 is [0.23349548 0.29826268 0.36386379] respectively\n",
      "The hamming loss/avg hamming distance for iteration 15 is: 0.2985406532314107\n",
      "The hamming score for iteration 15 is: 0.7014593467685892\n",
      "\n",
      "\n",
      "The hamming distances for family,genus and species in iteration 16 is [0.23349548 0.29826268 0.36386379] respectively\n",
      "The hamming loss/avg hamming distance for iteration 16 is: 0.2985406532314107\n",
      "The hamming score for iteration 16 is: 0.7014593467685892\n",
      "\n",
      "\n",
      "The hamming distances for family,genus and species in iteration 17 is [0.23349548 0.29826268 0.36386379] respectively\n",
      "The hamming loss/avg hamming distance for iteration 17 is: 0.2985406532314107\n",
      "The hamming score for iteration 17 is: 0.7014593467685892\n",
      "\n",
      "\n",
      "The hamming distances for family,genus and species in iteration 18 is [0.23349548 0.29826268 0.36386379] respectively\n",
      "The hamming loss/avg hamming distance for iteration 18 is: 0.2985406532314107\n",
      "The hamming score for iteration 18 is: 0.7014593467685892\n",
      "\n",
      "\n",
      "The hamming distances for family,genus and species in iteration 19 is [0.23349548 0.29826268 0.36386379] respectively\n",
      "The hamming loss/avg hamming distance for iteration 19 is: 0.2985406532314107\n",
      "The hamming score for iteration 19 is: 0.7014593467685892\n",
      "\n",
      "\n",
      "The hamming distances for family,genus and species in iteration 20 is [0.23349548 0.29826268 0.36386379] respectively\n",
      "The hamming loss/avg hamming distance for iteration 20 is: 0.2985406532314107\n",
      "The hamming score for iteration 20 is: 0.7014593467685892\n",
      "\n",
      "\n",
      "The hamming distances for family,genus and species in iteration 21 is [0.23349548 0.29826268 0.36386379] respectively\n",
      "The hamming loss/avg hamming distance for iteration 21 is: 0.2985406532314107\n",
      "The hamming score for iteration 21 is: 0.7014593467685892\n",
      "\n",
      "\n",
      "The hamming distances for family,genus and species in iteration 22 is [0.23349548 0.29826268 0.36386379] respectively\n",
      "The hamming loss/avg hamming distance for iteration 22 is: 0.2985406532314107\n",
      "The hamming score for iteration 22 is: 0.7014593467685892\n",
      "\n",
      "\n",
      "The hamming distances for family,genus and species in iteration 23 is [0.23349548 0.29826268 0.36386379] respectively\n",
      "The hamming loss/avg hamming distance for iteration 23 is: 0.2985406532314107\n",
      "The hamming score for iteration 23 is: 0.7014593467685892\n",
      "\n",
      "\n",
      "The hamming distances for family,genus and species in iteration 24 is [0.23349548 0.29826268 0.36386379] respectively\n",
      "The hamming loss/avg hamming distance for iteration 24 is: 0.2985406532314107\n",
      "The hamming score for iteration 24 is: 0.7014593467685892\n",
      "\n",
      "\n",
      "The hamming distances for family,genus and species in iteration 25 is [0.23349548 0.29826268 0.36386379] respectively\n",
      "The hamming loss/avg hamming distance for iteration 25 is: 0.2985406532314107\n",
      "The hamming score for iteration 25 is: 0.7014593467685892\n",
      "\n",
      "\n",
      "The hamming distances for family,genus and species in iteration 26 is [0.23349548 0.29826268 0.36386379] respectively\n",
      "The hamming loss/avg hamming distance for iteration 26 is: 0.2985406532314107\n",
      "The hamming score for iteration 26 is: 0.7014593467685892\n",
      "\n",
      "\n",
      "The hamming distances for family,genus and species in iteration 27 is [0.23349548 0.29826268 0.36386379] respectively\n",
      "The hamming loss/avg hamming distance for iteration 27 is: 0.2985406532314107\n",
      "The hamming score for iteration 27 is: 0.7014593467685892\n",
      "\n",
      "\n",
      "The hamming distances for family,genus and species in iteration 28 is [0.23349548 0.29826268 0.36386379] respectively\n",
      "The hamming loss/avg hamming distance for iteration 28 is: 0.2985406532314107\n",
      "The hamming score for iteration 28 is: 0.7014593467685892\n",
      "\n",
      "\n",
      "The hamming distances for family,genus and species in iteration 29 is [0.23349548 0.29826268 0.36386379] respectively\n",
      "The hamming loss/avg hamming distance for iteration 29 is: 0.2985406532314107\n",
      "The hamming score for iteration 29 is: 0.7014593467685892\n",
      "\n",
      "\n",
      "The hamming distances for family,genus and species in iteration 30 is [0.23349548 0.29826268 0.36386379] respectively\n",
      "The hamming loss/avg hamming distance for iteration 30 is: 0.2985406532314107\n",
      "The hamming score for iteration 30 is: 0.7014593467685892\n",
      "\n",
      "\n",
      "The hamming distances for family,genus and species in iteration 31 is [0.23349548 0.29826268 0.36386379] respectively\n",
      "The hamming loss/avg hamming distance for iteration 31 is: 0.2985406532314107\n",
      "The hamming score for iteration 31 is: 0.7014593467685892\n",
      "\n",
      "\n",
      "The hamming distances for family,genus and species in iteration 32 is [0.23349548 0.29826268 0.36386379] respectively\n",
      "The hamming loss/avg hamming distance for iteration 32 is: 0.2985406532314107\n",
      "The hamming score for iteration 32 is: 0.7014593467685892\n",
      "\n",
      "\n",
      "The hamming distances for family,genus and species in iteration 33 is [0.23349548 0.29826268 0.36386379] respectively\n",
      "The hamming loss/avg hamming distance for iteration 33 is: 0.2985406532314107\n",
      "The hamming score for iteration 33 is: 0.7014593467685892\n",
      "\n",
      "\n"
     ]
    },
    {
     "name": "stdout",
     "output_type": "stream",
     "text": [
      "The hamming distances for family,genus and species in iteration 34 is [0.23349548 0.29826268 0.36386379] respectively\n",
      "The hamming loss/avg hamming distance for iteration 34 is: 0.2985406532314107\n",
      "The hamming score for iteration 34 is: 0.7014593467685892\n",
      "\n",
      "\n",
      "The hamming distances for family,genus and species in iteration 35 is [0.23349548 0.29826268 0.36386379] respectively\n",
      "The hamming loss/avg hamming distance for iteration 35 is: 0.2985406532314107\n",
      "The hamming score for iteration 35 is: 0.7014593467685892\n",
      "\n",
      "\n",
      "The hamming distances for family,genus and species in iteration 36 is [0.23349548 0.29826268 0.36386379] respectively\n",
      "The hamming loss/avg hamming distance for iteration 36 is: 0.2985406532314107\n",
      "The hamming score for iteration 36 is: 0.7014593467685892\n",
      "\n",
      "\n",
      "The hamming distances for family,genus and species in iteration 37 is [0.23349548 0.29826268 0.36386379] respectively\n",
      "The hamming loss/avg hamming distance for iteration 37 is: 0.2985406532314107\n",
      "The hamming score for iteration 37 is: 0.7014593467685892\n",
      "\n",
      "\n",
      "The hamming distances for family,genus and species in iteration 38 is [0.23349548 0.29826268 0.36386379] respectively\n",
      "The hamming loss/avg hamming distance for iteration 38 is: 0.2985406532314107\n",
      "The hamming score for iteration 38 is: 0.7014593467685892\n",
      "\n",
      "\n",
      "The hamming distances for family,genus and species in iteration 39 is [0.23349548 0.29826268 0.36386379] respectively\n",
      "The hamming loss/avg hamming distance for iteration 39 is: 0.2985406532314107\n",
      "The hamming score for iteration 39 is: 0.7014593467685892\n",
      "\n",
      "\n",
      "The hamming distances for family,genus and species in iteration 40 is [0.23349548 0.29826268 0.36386379] respectively\n",
      "The hamming loss/avg hamming distance for iteration 40 is: 0.2985406532314107\n",
      "The hamming score for iteration 40 is: 0.7014593467685892\n",
      "\n",
      "\n",
      "The hamming distances for family,genus and species in iteration 41 is [0.23349548 0.29826268 0.36386379] respectively\n",
      "The hamming loss/avg hamming distance for iteration 41 is: 0.2985406532314107\n",
      "The hamming score for iteration 41 is: 0.7014593467685892\n",
      "\n",
      "\n",
      "The hamming distances for family,genus and species in iteration 42 is [0.23349548 0.29826268 0.36386379] respectively\n",
      "The hamming loss/avg hamming distance for iteration 42 is: 0.2985406532314107\n",
      "The hamming score for iteration 42 is: 0.7014593467685892\n",
      "\n",
      "\n",
      "The hamming distances for family,genus and species in iteration 43 is [0.23349548 0.29826268 0.36386379] respectively\n",
      "The hamming loss/avg hamming distance for iteration 43 is: 0.2985406532314107\n",
      "The hamming score for iteration 43 is: 0.7014593467685892\n",
      "\n",
      "\n",
      "The hamming distances for family,genus and species in iteration 44 is [0.23349548 0.29826268 0.36386379] respectively\n",
      "The hamming loss/avg hamming distance for iteration 44 is: 0.2985406532314107\n",
      "The hamming score for iteration 44 is: 0.7014593467685892\n",
      "\n",
      "\n",
      "The hamming distances for family,genus and species in iteration 45 is [0.23349548 0.29826268 0.36386379] respectively\n",
      "The hamming loss/avg hamming distance for iteration 45 is: 0.2985406532314107\n",
      "The hamming score for iteration 45 is: 0.7014593467685892\n",
      "\n",
      "\n",
      "The hamming distances for family,genus and species in iteration 46 is [0.23349548 0.29826268 0.36386379] respectively\n",
      "The hamming loss/avg hamming distance for iteration 46 is: 0.2985406532314107\n",
      "The hamming score for iteration 46 is: 0.7014593467685892\n",
      "\n",
      "\n",
      "The hamming distances for family,genus and species in iteration 47 is [0.23349548 0.29826268 0.36386379] respectively\n",
      "The hamming loss/avg hamming distance for iteration 47 is: 0.2985406532314107\n",
      "The hamming score for iteration 47 is: 0.7014593467685892\n",
      "\n",
      "\n",
      "The hamming distances for family,genus and species in iteration 48 is [0.23349548 0.29826268 0.36386379] respectively\n",
      "The hamming loss/avg hamming distance for iteration 48 is: 0.2985406532314107\n",
      "The hamming score for iteration 48 is: 0.7014593467685892\n",
      "\n",
      "\n",
      "The hamming distances for family,genus and species in iteration 49 is [0.23349548 0.29826268 0.36386379] respectively\n",
      "The hamming loss/avg hamming distance for iteration 49 is: 0.2985406532314107\n",
      "The hamming score for iteration 49 is: 0.7014593467685892\n",
      "\n",
      "\n",
      "The hamming distances for family,genus and species in iteration 50 is [0.23349548 0.29826268 0.36386379] respectively\n",
      "The hamming loss/avg hamming distance for iteration 50 is: 0.2985406532314107\n",
      "The hamming score for iteration 50 is: 0.7014593467685892\n",
      "\n",
      "\n",
      "time: 2007.7754376209996\n"
     ]
    }
   ],
   "source": [
    "import timeit\n",
    "start_time = timeit.default_timer()\n",
    "\n",
    "best_kch = []\n",
    "hm_loss=[]\n",
    "hm_score=[]\n",
    "for x in range(1,51):\n",
    "    ch_index=[]\n",
    "    for k in range(2, 51):\n",
    "        kmeans_cl = KMeans(init = 'random',n_clusters=k).fit(X_fcalls)\n",
    "        labels = kmeans_cl.labels_\n",
    "        ch_index.append((k,labels,metrics.calinski_harabaz_score(X_fcalls, labels)))\n",
    "        \n",
    "    sorted_ch_index = sorted(ch_index,key=itemgetter(2),reverse = True)\n",
    "    #print('The optimal K for iteration No',x ,'is',sorted_ch_index[0][0],\"and its CH Index is:\",sorted_ch_index[0][2])\n",
    "    #print(\"The clusters are:\",np.unique(sorted_ch_index[0][1]))\n",
    "    array_lab=sorted_ch_index[0][1]\n",
    "    l=array_lab.tolist()\n",
    "    cl0=[]\n",
    "    cl1=[]\n",
    "\n",
    "    for i in range(0,len(l)):\n",
    "        if l[i]==0:\n",
    "            cl0.append(i)\n",
    "        elif l[i]==1:\n",
    "            cl1.append(i)\n",
    "    clus0=[]\n",
    "    clus1=[]\n",
    "\n",
    "    fam0=list(Y_fcalls['Family'].iloc[cl0])\n",
    "    genus0=list(Y_fcalls['Genus'].iloc[cl0])\n",
    "    species0=list(Y_fcalls['Species'].iloc[cl0])\n",
    "    \n",
    "    fam1=list(Y_fcalls['Family'].iloc[cl1])\n",
    "    genus1=list(Y_fcalls['Genus'].iloc[cl1])\n",
    "    species1=list(Y_fcalls['Species'].iloc[cl1])\n",
    "   \n",
    "    clus0.append(max(set(fam0), key = fam0.count))\n",
    "    clus0.append(max(set(genus0), key = genus0.count))\n",
    "    clus0.append(max(set(species0), key = species0.count))\n",
    "    \n",
    "    clus1.append(max(set(fam1), key = fam1.count))\n",
    "    clus1.append(max(set(genus1), key = genus1.count))\n",
    "    clus1.append(max(set(species1), key = species1.count))\n",
    "    \n",
    "    \n",
    "    indexl=[]\n",
    "    faml=[]\n",
    "    genusl=[]\n",
    "    speciesl=[]\n",
    "    \n",
    "    for j in range(0,len(cl0)):\n",
    "        indexl.append(cl0[j])\n",
    "        faml.append(max(set(fam0), key = fam0.count))\n",
    "        genusl.append(max(set(genus0), key = genus0.count))\n",
    "        speciesl.append(max(set(species0), key = species0.count))\n",
    "    for g in range(0,len(cl1)):\n",
    "        indexl.append(cl1[g])\n",
    "        faml.append(max(set(fam1), key = fam1.count))\n",
    "        genusl.append(max(set(genus1), key = genus1.count))\n",
    "        speciesl.append(max(set(species1), key = species1.count))\n",
    "        \n",
    "    comp_df=pd.DataFrame({'Indexes':indexl,'Family':faml,'Genus':genusl,'Species':speciesl})\n",
    "    comp_df.set_index('Indexes', inplace=True)\n",
    "    comp_df_sorted=comp_df.sort_index()\n",
    "    \n",
    "    hm=np.sum(np.not_equal(Y_fcalls, comp_df_sorted))/float(Y_fcalls.size)\n",
    "    hd=hm*3\n",
    "    print(\"The hamming distances for family,genus and species in iteration\",x,\"is\",hd.values,\"respectively\")\n",
    "    print(\"The hamming loss/avg hamming distance for iteration\",x,\"is:\",sum(hm.values))\n",
    "    print(\"The hamming score for iteration\",x,\"is:\",(1-sum(hm.values)))\n",
    "    print('\\n')\n",
    "    \n",
    "    hm_loss.append(sum(hm.values))\n",
    "    hm_score.append((1-sum(hm.values)))\n",
    "    \n",
    "\n",
    "elapsed = timeit.default_timer() - start_time\n",
    "print(\"time:\",elapsed) \n",
    "   "
   ]
  },
  {
   "cell_type": "code",
   "execution_count": 314,
   "metadata": {},
   "outputs": [
    {
     "name": "stdout",
     "output_type": "stream",
     "text": [
      "The average of Hamming Loss over 50 iterations is 0.29854065323141077\n",
      "The average of Hamming Score over 50 iterations is 0.7014593467685891\n"
     ]
    }
   ],
   "source": [
    "print(\"The average of Hamming Loss over 50 iterations is\",np.mean(hm_loss))\n",
    "print(\"The average of Hamming Score over 50 iterations is\",np.mean(hm_score))\n"
   ]
  },
  {
   "cell_type": "code",
   "execution_count": 315,
   "metadata": {},
   "outputs": [
    {
     "name": "stdout",
     "output_type": "stream",
     "text": [
      "The standard deviation of Hamming Loss over 50 iterations is 5.551115123125783e-17\n",
      "The standard deviation of Hamming Score over 50 iterations is 1.1102230246251565e-16\n"
     ]
    }
   ],
   "source": [
    "print(\"The standard deviation of Hamming Loss over 50 iterations is\",np.std(hm_loss))\n",
    "print(\"The standard deviation of Hamming Score over 50 iterations is\",np.std(hm_score))"
   ]
  },
  {
   "cell_type": "markdown",
   "metadata": {},
   "source": [
    "### Solution to 3: In pdf, in the zip file"
   ]
  }
 ],
 "metadata": {
  "kernelspec": {
   "display_name": "Python 3",
   "language": "python",
   "name": "python3"
  },
  "language_info": {
   "codemirror_mode": {
    "name": "ipython",
    "version": 3
   },
   "file_extension": ".py",
   "mimetype": "text/x-python",
   "name": "python",
   "nbconvert_exporter": "python",
   "pygments_lexer": "ipython3",
   "version": "3.7.4"
  }
 },
 "nbformat": 4,
 "nbformat_minor": 2
}
